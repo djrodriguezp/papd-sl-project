{
 "cells": [
  {
   "cell_type": "markdown",
   "metadata": {},
   "source": [
    "# Proyecto Statistical Learning I"
   ]
  },
  {
   "cell_type": "code",
   "execution_count": 1,
   "metadata": {},
   "outputs": [
    {
     "name": "stdout",
     "output_type": "stream",
     "text": [
      "WARNING:tensorflow:From C:\\Users\\drodriguez\\AppData\\Local\\Continuum\\anaconda3\\envs\\cdp\\lib\\site-packages\\tensorflow\\python\\compat\\v2_compat.py:96: disable_resource_variables (from tensorflow.python.ops.variable_scope) is deprecated and will be removed in a future version.\n",
      "Instructions for updating:\n",
      "non-resource variables are not supported in the long term\n"
     ]
    }
   ],
   "source": [
    "import pandas as pd\n",
    "import numpy as np\n",
    "import tensorflow as tf\n",
    "import datetime\n",
    "import matplotlib.pyplot as plt\n",
    "import seaborn as sns\n",
    "from collections import Counter\n",
    "from sklearn.model_selection import train_test_split\n",
    "from sklearn import metrics\n",
    "\n",
    "#habilitamos compatibilidad para TensorFlow v1\n",
    "if tf.__version__.startswith(\"2.\"):\n",
    "  import tensorflow.compat.v1 as tf\n",
    "  tf.compat.v1.disable_v2_behavior()\n",
    "  tf.compat.v1.disable_eager_execution()"
   ]
  },
  {
   "cell_type": "code",
   "execution_count": 2,
   "metadata": {},
   "outputs": [
    {
     "data": {
      "text/html": [
       "<div>\n",
       "<style scoped>\n",
       "    .dataframe tbody tr th:only-of-type {\n",
       "        vertical-align: middle;\n",
       "    }\n",
       "\n",
       "    .dataframe tbody tr th {\n",
       "        vertical-align: top;\n",
       "    }\n",
       "\n",
       "    .dataframe thead th {\n",
       "        text-align: right;\n",
       "    }\n",
       "</style>\n",
       "<table border=\"1\" class=\"dataframe\">\n",
       "  <thead>\n",
       "    <tr style=\"text-align: right;\">\n",
       "      <th></th>\n",
       "      <th>PassengerId</th>\n",
       "      <th>Name</th>\n",
       "      <th>Age</th>\n",
       "      <th>SibSp</th>\n",
       "      <th>Parch</th>\n",
       "      <th>Ticket</th>\n",
       "      <th>Fare</th>\n",
       "      <th>Cabin</th>\n",
       "      <th>Embarked</th>\n",
       "      <th>passenger_class</th>\n",
       "      <th>passenger_sex</th>\n",
       "      <th>passenger_survived</th>\n",
       "    </tr>\n",
       "  </thead>\n",
       "  <tbody>\n",
       "    <tr>\n",
       "      <th>634</th>\n",
       "      <td>635</td>\n",
       "      <td>Skoog, Miss. Mabel</td>\n",
       "      <td>9.0</td>\n",
       "      <td>3</td>\n",
       "      <td>2</td>\n",
       "      <td>347088</td>\n",
       "      <td>27.9000</td>\n",
       "      <td>NaN</td>\n",
       "      <td>S</td>\n",
       "      <td>Lower</td>\n",
       "      <td>F</td>\n",
       "      <td>N</td>\n",
       "    </tr>\n",
       "    <tr>\n",
       "      <th>747</th>\n",
       "      <td>748</td>\n",
       "      <td>Sinkkonen, Miss. Anna</td>\n",
       "      <td>30.0</td>\n",
       "      <td>0</td>\n",
       "      <td>0</td>\n",
       "      <td>250648</td>\n",
       "      <td>13.0000</td>\n",
       "      <td>NaN</td>\n",
       "      <td>S</td>\n",
       "      <td>Middle</td>\n",
       "      <td>F</td>\n",
       "      <td>Y</td>\n",
       "    </tr>\n",
       "    <tr>\n",
       "      <th>48</th>\n",
       "      <td>49</td>\n",
       "      <td>Samaan, Mr. Youssef</td>\n",
       "      <td>NaN</td>\n",
       "      <td>2</td>\n",
       "      <td>0</td>\n",
       "      <td>2662</td>\n",
       "      <td>21.6792</td>\n",
       "      <td>NaN</td>\n",
       "      <td>C</td>\n",
       "      <td>Lower</td>\n",
       "      <td>M</td>\n",
       "      <td>N</td>\n",
       "    </tr>\n",
       "    <tr>\n",
       "      <th>838</th>\n",
       "      <td>839</td>\n",
       "      <td>Chip, Mr. Chang</td>\n",
       "      <td>32.0</td>\n",
       "      <td>0</td>\n",
       "      <td>0</td>\n",
       "      <td>1601</td>\n",
       "      <td>56.4958</td>\n",
       "      <td>NaN</td>\n",
       "      <td>S</td>\n",
       "      <td>Lower</td>\n",
       "      <td>M</td>\n",
       "      <td>Y</td>\n",
       "    </tr>\n",
       "    <tr>\n",
       "      <th>477</th>\n",
       "      <td>478</td>\n",
       "      <td>Braund, Mr. Lewis Richard</td>\n",
       "      <td>29.0</td>\n",
       "      <td>1</td>\n",
       "      <td>0</td>\n",
       "      <td>3460</td>\n",
       "      <td>7.0458</td>\n",
       "      <td>NaN</td>\n",
       "      <td>S</td>\n",
       "      <td>Lower</td>\n",
       "      <td>M</td>\n",
       "      <td>N</td>\n",
       "    </tr>\n",
       "    <tr>\n",
       "      <th>...</th>\n",
       "      <td>...</td>\n",
       "      <td>...</td>\n",
       "      <td>...</td>\n",
       "      <td>...</td>\n",
       "      <td>...</td>\n",
       "      <td>...</td>\n",
       "      <td>...</td>\n",
       "      <td>...</td>\n",
       "      <td>...</td>\n",
       "      <td>...</td>\n",
       "      <td>...</td>\n",
       "      <td>...</td>\n",
       "    </tr>\n",
       "    <tr>\n",
       "      <th>219</th>\n",
       "      <td>220</td>\n",
       "      <td>Harris, Mr. Walter</td>\n",
       "      <td>30.0</td>\n",
       "      <td>0</td>\n",
       "      <td>0</td>\n",
       "      <td>W/C 14208</td>\n",
       "      <td>10.5000</td>\n",
       "      <td>NaN</td>\n",
       "      <td>S</td>\n",
       "      <td>Middle</td>\n",
       "      <td>M</td>\n",
       "      <td>N</td>\n",
       "    </tr>\n",
       "    <tr>\n",
       "      <th>450</th>\n",
       "      <td>451</td>\n",
       "      <td>West, Mr. Edwy Arthur</td>\n",
       "      <td>36.0</td>\n",
       "      <td>1</td>\n",
       "      <td>2</td>\n",
       "      <td>C.A. 34651</td>\n",
       "      <td>27.7500</td>\n",
       "      <td>NaN</td>\n",
       "      <td>S</td>\n",
       "      <td>Middle</td>\n",
       "      <td>M</td>\n",
       "      <td>N</td>\n",
       "    </tr>\n",
       "    <tr>\n",
       "      <th>137</th>\n",
       "      <td>138</td>\n",
       "      <td>Futrelle, Mr. Jacques Heath</td>\n",
       "      <td>37.0</td>\n",
       "      <td>1</td>\n",
       "      <td>0</td>\n",
       "      <td>113803</td>\n",
       "      <td>53.1000</td>\n",
       "      <td>C123</td>\n",
       "      <td>S</td>\n",
       "      <td>Upper</td>\n",
       "      <td>M</td>\n",
       "      <td>N</td>\n",
       "    </tr>\n",
       "    <tr>\n",
       "      <th>671</th>\n",
       "      <td>672</td>\n",
       "      <td>Davidson, Mr. Thornton</td>\n",
       "      <td>31.0</td>\n",
       "      <td>1</td>\n",
       "      <td>0</td>\n",
       "      <td>F.C. 12750</td>\n",
       "      <td>52.0000</td>\n",
       "      <td>B71</td>\n",
       "      <td>S</td>\n",
       "      <td>Upper</td>\n",
       "      <td>M</td>\n",
       "      <td>N</td>\n",
       "    </tr>\n",
       "    <tr>\n",
       "      <th>573</th>\n",
       "      <td>574</td>\n",
       "      <td>Kelly, Miss. Mary</td>\n",
       "      <td>NaN</td>\n",
       "      <td>0</td>\n",
       "      <td>0</td>\n",
       "      <td>14312</td>\n",
       "      <td>7.7500</td>\n",
       "      <td>NaN</td>\n",
       "      <td>Q</td>\n",
       "      <td>Lower</td>\n",
       "      <td>F</td>\n",
       "      <td>Y</td>\n",
       "    </tr>\n",
       "  </tbody>\n",
       "</table>\n",
       "<p>569 rows × 12 columns</p>\n",
       "</div>"
      ],
      "text/plain": [
       "     PassengerId                         Name   Age  SibSp  Parch      Ticket  \\\n",
       "634          635           Skoog, Miss. Mabel   9.0      3      2      347088   \n",
       "747          748        Sinkkonen, Miss. Anna  30.0      0      0      250648   \n",
       "48            49          Samaan, Mr. Youssef   NaN      2      0        2662   \n",
       "838          839              Chip, Mr. Chang  32.0      0      0        1601   \n",
       "477          478    Braund, Mr. Lewis Richard  29.0      1      0        3460   \n",
       "..           ...                          ...   ...    ...    ...         ...   \n",
       "219          220           Harris, Mr. Walter  30.0      0      0   W/C 14208   \n",
       "450          451        West, Mr. Edwy Arthur  36.0      1      2  C.A. 34651   \n",
       "137          138  Futrelle, Mr. Jacques Heath  37.0      1      0      113803   \n",
       "671          672       Davidson, Mr. Thornton  31.0      1      0  F.C. 12750   \n",
       "573          574            Kelly, Miss. Mary   NaN      0      0       14312   \n",
       "\n",
       "        Fare Cabin Embarked passenger_class passenger_sex passenger_survived  \n",
       "634  27.9000   NaN        S           Lower             F                  N  \n",
       "747  13.0000   NaN        S          Middle             F                  Y  \n",
       "48   21.6792   NaN        C           Lower             M                  N  \n",
       "838  56.4958   NaN        S           Lower             M                  Y  \n",
       "477   7.0458   NaN        S           Lower             M                  N  \n",
       "..       ...   ...      ...             ...           ...                ...  \n",
       "219  10.5000   NaN        S          Middle             M                  N  \n",
       "450  27.7500   NaN        S          Middle             M                  N  \n",
       "137  53.1000  C123        S           Upper             M                  N  \n",
       "671  52.0000   B71        S           Upper             M                  N  \n",
       "573   7.7500   NaN        Q           Lower             F                  Y  \n",
       "\n",
       "[569 rows x 12 columns]"
      ]
     },
     "execution_count": 2,
     "metadata": {},
     "output_type": "execute_result"
    }
   ],
   "source": [
    "titanic_dataset = pd.read_csv('data_titanic_proyecto.csv')\n",
    "\n",
    "train_data, test_data = train_test_split(titanic_dataset, test_size=0.2)\n",
    "train_data, validation_data = train_test_split(train_data, test_size=0.2)\n",
    "\n",
    "train_data"
   ]
  },
  {
   "cell_type": "code",
   "execution_count": null,
   "metadata": {},
   "outputs": [],
   "source": []
  },
  {
   "cell_type": "markdown",
   "metadata": {},
   "source": [
    "### Análisis exploratorio de datos"
   ]
  },
  {
   "cell_type": "code",
   "execution_count": 4,
   "metadata": {
    "scrolled": true
   },
   "outputs": [
    {
     "data": {
      "text/plain": [
       "PassengerId             0\n",
       "Name                    0\n",
       "Age                   110\n",
       "SibSp                   0\n",
       "Parch                   0\n",
       "Ticket                  0\n",
       "Fare                    0\n",
       "Cabin                 444\n",
       "Embarked                2\n",
       "passenger_class         0\n",
       "passenger_sex           0\n",
       "passenger_survived      0\n",
       "dtype: int64"
      ]
     },
     "execution_count": 4,
     "metadata": {},
     "output_type": "execute_result"
    }
   ],
   "source": [
    "train_data.isna().sum()"
   ]
  },
  {
   "cell_type": "code",
   "execution_count": 5,
   "metadata": {
    "scrolled": false
   },
   "outputs": [
    {
     "name": "stdout",
     "output_type": "stream",
     "text": [
      "PassengerId : 569\n",
      "Name : 569\n",
      "Age : 83\n",
      "SibSp : 7\n",
      "Parch : 7\n",
      "Ticket : 470\n",
      "Fare : 204\n",
      "Embarked : 3\n",
      "passenger_class : 3\n",
      "passenger_sex : 2\n",
      "passenger_survived : 2\n"
     ]
    }
   ],
   "source": [
    "for column in train_data.drop(['Cabin'],axis=1):\n",
    "    print(column+\" : \"+str(train_data[column].dropna().unique().shape[0]))"
   ]
  },
  {
   "cell_type": "code",
   "execution_count": 6,
   "metadata": {},
   "outputs": [
    {
     "data": {
      "image/png": "[encoded data removed]",
      "text/plain": [
       "<Figure size 1080x1080 with 5 Axes>"
      ]
     },
     "metadata": {
      "needs_background": "light"
     },
     "output_type": "display_data"
    }
   ],
   "source": [
    "f,axes = plt.subplots(3,2,sharex=False, figsize=(15,15))\n",
    "i_vars = [\"passenger_sex\",\"passenger_class\",\"Embarked\",\"SibSp\",\"Parch\"]\n",
    "\n",
    "for i in range(len(i_vars)):\n",
    "    ivar = i_vars[i]\n",
    "    labels = sorted(train_data[ivar].dropna().unique())\n",
    "    survivors = []\n",
    "    deaths = []\n",
    "    for label in labels:\n",
    "        survivors.append(train_data[(train_data[ivar] == label) & (train_data[\"passenger_survived\"] == \"Y\")][ivar].count())\n",
    "        deaths.append(train_data[(train_data[ivar] == label) & (train_data[\"passenger_survived\"] == \"N\")][ivar].count())\n",
    "        \n",
    "    width = 0.20\n",
    "    x_plt = np.arange(len(labels))\n",
    "    \n",
    "    ax = axes[i//2,i%2]\n",
    "    rects1 = ax.bar(x_plt, survivors, width, label='Sobrevivieron')\n",
    "    rects2 = ax.bar(x_plt + width, deaths, width, label='Murieron',color=\"red\")\n",
    "\n",
    "    ax.set_ylabel('Cantidad')\n",
    "    ax.set_title('Relación '+ivar+' y passenger_survived', fontsize=15)\n",
    "    ax.set_xticks(x_plt+width/2)\n",
    "    ax.set_xticklabels(labels)\n",
    "    ax.legend()\n",
    "    \n",
    "f.delaxes(axes[2,1])\n",
    "plt.show()"
   ]
  },
  {
   "cell_type": "code",
   "execution_count": 7,
   "metadata": {
    "scrolled": true
   },
   "outputs": [
    {
     "data": {
      "image/png": "[encoded data removed]",
      "text/plain": [
       "<Figure size 576x360 with 1 Axes>"
      ]
     },
     "metadata": {},
     "output_type": "display_data"
    }
   ],
   "source": [
    "sns.set();\n",
    "plt.figure(figsize=(8,5))\n",
    "sns.distplot(train_data[\"Age\"].dropna(), kde=False, label=\"Pasajeros\")\n",
    "sns.distplot(train_data[(train_data[\"passenger_survived\"] == \"N\")][\"Age\"].dropna(),color=\"r\", kde =False, label=\"Murieron\")\n",
    "sns.distplot(train_data[(train_data[\"passenger_survived\"] == \"Y\")][\"Age\"].dropna(), color=\"green\", kde =False, label=\"Sobrevivieron\")\n",
    "plt.title(\"Edad Pasajeros\",fontsize=15)\n",
    "plt.legend()\n",
    "plt.show()"
   ]
  },
  {
   "cell_type": "code",
   "execution_count": 8,
   "metadata": {
    "scrolled": true
   },
   "outputs": [
    {
     "data": {
      "image/png": "[encoded data removed]",
      "text/plain": [
       "<Figure size 1080x360 with 2 Axes>"
      ]
     },
     "metadata": {},
     "output_type": "display_data"
    }
   ],
   "source": [
    "sns.set();\n",
    "\n",
    "f,axes = plt.subplots(1,2,sharex=False, figsize=(15,5))\n",
    "\n",
    "sns.distplot(train_data[(train_data[\"passenger_sex\"] == \"F\") & (train_data[\"passenger_survived\"] == \"Y\")][\"Age\"].dropna(), color=\"green\", kde=False, ax=axes[0],label=\"Sobrevivieron\")\n",
    "sns.distplot(train_data[(train_data[\"passenger_sex\"] == \"F\") & (train_data[\"passenger_survived\"] == \"N\")][\"Age\"].dropna(), color=\"red\", kde=False, ax=axes[0],label=\"Murieron\")\n",
    "sns.distplot(train_data[(train_data[\"passenger_sex\"] == \"M\") & (train_data[\"passenger_survived\"] == \"Y\")][\"Age\"].dropna(), color=\"green\", kde=False,ax=axes[1], label=\"Sobrevivieron\")\n",
    "sns.distplot(train_data[(train_data[\"passenger_sex\"] == \"M\") & (train_data[\"passenger_survived\"] == \"N\")][\"Age\"].dropna(), color=\"red\", kde=False, ax=axes[1],label=\"Murieron\")\n",
    "axes[0].legend()\n",
    "axes[0].set_title(\"Mujeres\",fontsize=15)\n",
    "axes[1].legend()\n",
    "axes[1].set_title(\"Hombres\",fontsize=15)\n",
    "plt.show()"
   ]
  },
  {
   "cell_type": "code",
   "execution_count": 10,
   "metadata": {},
   "outputs": [],
   "source": [
    "#corr = train_data.corrwith(train_data[\"passenger_survived\"])\n",
    "\n",
    "#plt.figure(figsize=(12,6))\n",
    "#sns.heatmap(train_data.corr(), cmap=\"Blues\", annot=True)\n",
    "\n",
    "#corr.to_frame().T"
   ]
  },
  {
   "cell_type": "markdown",
   "metadata": {},
   "source": [
    "### Naive Bayes"
   ]
  },
  {
   "cell_type": "code",
   "execution_count": 3,
   "metadata": {},
   "outputs": [
    {
     "name": "stdout",
     "output_type": "stream",
     "text": [
      "[1 1 1 1 1 1 0 0 0]\n"
     ]
    }
   ],
   "source": [
    "\n",
    "weather=['Sunny','Sunny','Overcast','Rainy','Rainy','Rainy','Overcast','Sunny','Sunny',\n",
    "'Rainy','Sunny','Overcast','Overcast','Rainy']\n",
    "temp=['Hot','Hot','Hot','Mild','Cool','Cool','Cool','Mild','Cool','Mild','Mild','Mild','Hot','Mild']\n",
    "\n",
    "play=['No','No','Yes','Yes','Yes','No','Yes','No','Yes','Yes','Yes','Yes','Yes','No']\n",
    "\n",
    "\n",
    "df = pd.DataFrame({\n",
    "    'weather' : weather,\n",
    "    'temp' : temp,\n",
    "     'play' : play\n",
    "})\n",
    "\n",
    "\n",
    "#df = pd.DataFrame({\n",
    "#    'X1': [3.393533211,3.110073483, 1.343808831, 3.582294042,2.280362439,7.423436942,5.745051997,9.172168622,7.792783481,7.939820817],\n",
    "#    'X2': [2.331273381,1.781539638,3.368360954,4.67917911,2.866990263,4.696522875,3.533989803,2.511101045,3.424088941,0.791637231],\n",
    "#    'Y': [0,0,0,0,0,1,1,1,1,1]\n",
    "#})\n",
    "\n",
    "\n",
    "#df = pd.DataFrame({\n",
    "#    'X1': [3.393533211,3.110073483, 1.343808831, 3.582294042,2.280362439,7.423436942,5.745051997,9.172168622,7.792783481,7.939820817],\n",
    "#    'X2': [2.331273381,1.781539638,3.368360954,4.67917911,2.866990263,4.696522875,3.533989803,2.511101045,3.424088941,0.791637231],\n",
    "#    'Y': [0,0,0,0,0,1,1,1,1,1]\n",
    "#})\n",
    "\n",
    "\n",
    "    #return (1 / (sqrt(2 * pi) * stdev)) * exponent\n",
    "\n",
    "df.to_dict('index')\n",
    "df[\"Y\"] = df[\"play\"].map( {'No': 0, 'Yes': 1}).astype(int)\n",
    "df[\"weather_encoded\"] = df[\"weather\"].map( {'Overcast': 0, 'Rainy': 1,'Sunny':2}).astype(int)\n",
    "df[\"temp_encoded\"] = df[\"temp\"].map( {'Cool': 0, 'Hot': 1,'Mild':2}).astype(int)\n",
    "\n",
    "\n",
    "x_test = np.array([[0,0],[0,1],[0,2],[1,0],[1,1],[1,2],[2,0],[2,1],[2,2]])\n",
    "y_test = [1,0,1]\n",
    "x_test.reshape(-1,1)\n",
    "\n",
    "#empieza aqui\n",
    "means = df.groupby('Y').mean()\n",
    "stds = df.groupby('Y').std()\n",
    "\n",
    "class_prob = df.groupby('Y')['Y'].count() / df.shape[0]\n",
    "\n",
    "predictions = np.zeros((len(df['Y'].unique()),x_test.shape[0]))\n",
    "for c in df['Y'].unique():\n",
    "    mean = means.iloc[c].to_numpy()\n",
    "    std = stds.iloc[c].to_numpy() \n",
    "    vars_prob = (1 / (np.sqrt(2 * np.pi) * std)) * np.exp(-((x_test-mean)**2 / (2 * std**2 )))\n",
    "    probablilites = class_prob[c]*np.product(vars_prob,axis=1)\n",
    "    predictions[c] = probablilites\n",
    "\n",
    "y_pred = np.argmax(predictions.T,axis=1)\n",
    "\n",
    "print(y_pred)\n",
    "#print(\"Accuracy:\",metrics.accuracy_score(y_test, y_pred))\n",
    "    \n",
    "\n",
    "\n",
    "#print(means)"
   ]
  },
  {
   "cell_type": "code",
   "execution_count": 4,
   "metadata": {},
   "outputs": [
    {
     "name": "stdout",
     "output_type": "stream",
     "text": [
      "Predicted Value: [1 1 1 1 1 1 0 0 0]\n"
     ]
    }
   ],
   "source": [
    "from sklearn import preprocessing\n",
    "#creating labelEncoder\n",
    "le = preprocessing.LabelEncoder()\n",
    "# Converting string labels into numbers.\n",
    "weather_encoded=le.fit_transform(weather)\n",
    "temp_encoded=le.fit_transform(temp)\n",
    "label=le.fit_transform(play)\n",
    "features=zip(weather_encoded,temp_encoded)\n",
    "\n",
    "from sklearn.naive_bayes import GaussianNB\n",
    "\n",
    "#Create a Gaussian Classifier\n",
    "model = GaussianNB()\n",
    "\n",
    "# Train the model using the training sets\n",
    "model.fit(list(features),label)\n",
    "\n",
    "#Predict Output\n",
    "predicted= model.predict(x_test) # 0:Overcast, 2:Mild\n",
    "print(\"Predicted Value:\", predicted)"
   ]
  },
  {
   "cell_type": "markdown",
   "metadata": {},
   "source": [
    "### SVM"
   ]
  },
  {
   "cell_type": "code",
   "execution_count": 5,
   "metadata": {},
   "outputs": [
    {
     "data": {
      "text/plain": [
       "array([1, 1, 1, 1, 1, 1, 0, 0, 0])"
      ]
     },
     "execution_count": 5,
     "metadata": {},
     "output_type": "execute_result"
    }
   ],
   "source": [
    "from sklearn import svm\n",
    "\n",
    "clf = svm.SVC(kernel='linear') \n",
    "\n",
    "clf.fit(df[[\"weather_encoded\",\"temp_encoded\"]],df[\"Y\"])\n",
    "\n",
    "y_pred = clf.predict(x_test)\n",
    "y_pred"
   ]
  },
  {
   "cell_type": "code",
   "execution_count": 6,
   "metadata": {},
   "outputs": [
    {
     "data": {
      "text/plain": [
       "array([1, 1, 1, 0, 0, 1, 1, 0, 0])"
      ]
     },
     "execution_count": 6,
     "metadata": {},
     "output_type": "execute_result"
    }
   ],
   "source": [
    "from sklearn.tree import DecisionTreeClassifier\n",
    "clf = DecisionTreeClassifier()\n",
    "clf = clf.fit(df[[\"weather_encoded\",\"temp_encoded\"]],df[\"Y\"])\n",
    "y_pred = clf.predict(x_test)\n",
    "\n",
    "y_pred"
   ]
  },
  {
   "cell_type": "code",
   "execution_count": 9,
   "metadata": {},
   "outputs": [],
   "source": [
    "from sklearn.tree import export_graphviz"
   ]
  },
  {
   "cell_type": "code",
   "execution_count": 10,
   "metadata": {
    "scrolled": false
   },
   "outputs": [
    {
     "data": {
      "image/svg+xml": [
       "<?xml version=\"1.0\" encoding=\"UTF-8\" standalone=\"no\"?>\r\n",
       "<!DOCTYPE svg PUBLIC \"-//W3C//DTD SVG 1.1//EN\"\r\n",
       " \"http://www.w3.org/Graphics/SVG/1.1/DTD/svg11.dtd\">\r\n",
       "<!-- Generated by graphviz version 2.44.1 (20200629.0800)\r\n",
       " -->\r\n",
       "<!-- Title: Tree Pages: 1 -->\r\n",
       "<svg width=\"571pt\" height=\"552pt\"\r\n",
       " viewBox=\"0.00 0.00 571.00 552.00\" xmlns=\"http://www.w3.org/2000/svg\" xmlns:xlink=\"http://www.w3.org/1999/xlink\">\r\n",
       "<g id=\"graph0\" class=\"graph\" transform=\"scale(1 1) rotate(0) translate(4 548)\">\r\n",
       "<title>Tree</title>\r\n",
       "<polygon fill=\"white\" stroke=\"transparent\" points=\"-4,4 -4,-548 567,-548 567,4 -4,4\"/>\r\n",
       "<!-- 0 -->\r\n",
       "<g id=\"node1\" class=\"node\">\r\n",
       "<title>0</title>\r\n",
       "<path fill=\"#a7d3f3\" stroke=\"black\" d=\"M225,-544C225,-544 146,-544 146,-544 140,-544 134,-538 134,-532 134,-532 134,-473 134,-473 134,-467 140,-461 146,-461 146,-461 225,-461 225,-461 231,-461 237,-467 237,-473 237,-473 237,-532 237,-532 237,-538 231,-544 225,-544\"/>\r\n",
       "<text text-anchor=\"start\" x=\"143\" y=\"-528.8\" font-family=\"Helvetica,sans-Serif\" font-size=\"14.00\">weather ≤ 0.5</text>\r\n",
       "<text text-anchor=\"start\" x=\"148\" y=\"-513.8\" font-family=\"Helvetica,sans-Serif\" font-size=\"14.00\">gini = 0.459</text>\r\n",
       "<text text-anchor=\"start\" x=\"142\" y=\"-498.8\" font-family=\"Helvetica,sans-Serif\" font-size=\"14.00\">samples = 14</text>\r\n",
       "<text text-anchor=\"start\" x=\"145\" y=\"-483.8\" font-family=\"Helvetica,sans-Serif\" font-size=\"14.00\">value = [5, 9]</text>\r\n",
       "<text text-anchor=\"start\" x=\"148\" y=\"-468.8\" font-family=\"Helvetica,sans-Serif\" font-size=\"14.00\">class = play</text>\r\n",
       "</g>\r\n",
       "<!-- 1 -->\r\n",
       "<g id=\"node2\" class=\"node\">\r\n",
       "<title>1</title>\r\n",
       "<path fill=\"#399de5\" stroke=\"black\" d=\"M159,-417.5C159,-417.5 86,-417.5 86,-417.5 80,-417.5 74,-411.5 74,-405.5 74,-405.5 74,-361.5 74,-361.5 74,-355.5 80,-349.5 86,-349.5 86,-349.5 159,-349.5 159,-349.5 165,-349.5 171,-355.5 171,-361.5 171,-361.5 171,-405.5 171,-405.5 171,-411.5 165,-417.5 159,-417.5\"/>\r\n",
       "<text text-anchor=\"start\" x=\"93.5\" y=\"-402.3\" font-family=\"Helvetica,sans-Serif\" font-size=\"14.00\">gini = 0.0</text>\r\n",
       "<text text-anchor=\"start\" x=\"83\" y=\"-387.3\" font-family=\"Helvetica,sans-Serif\" font-size=\"14.00\">samples = 4</text>\r\n",
       "<text text-anchor=\"start\" x=\"82\" y=\"-372.3\" font-family=\"Helvetica,sans-Serif\" font-size=\"14.00\">value = [0, 4]</text>\r\n",
       "<text text-anchor=\"start\" x=\"85\" y=\"-357.3\" font-family=\"Helvetica,sans-Serif\" font-size=\"14.00\">class = play</text>\r\n",
       "</g>\r\n",
       "<!-- 0&#45;&gt;1 -->\r\n",
       "<g id=\"edge1\" class=\"edge\">\r\n",
       "<title>0&#45;&gt;1</title>\r\n",
       "<path fill=\"none\" stroke=\"black\" d=\"M163.64,-460.91C157.7,-449.87 151.25,-437.9 145.26,-426.77\"/>\r\n",
       "<polygon fill=\"black\" stroke=\"black\" points=\"148.18,-424.81 140.36,-417.67 142.02,-428.13 148.18,-424.81\"/>\r\n",
       "<text text-anchor=\"middle\" x=\"133.18\" y=\"-437.91\" font-family=\"Helvetica,sans-Serif\" font-size=\"14.00\">True</text>\r\n",
       "</g>\r\n",
       "<!-- 2 -->\r\n",
       "<g id=\"node3\" class=\"node\">\r\n",
       "<title>2</title>\r\n",
       "<path fill=\"#ffffff\" stroke=\"black\" d=\"M296,-425C296,-425 201,-425 201,-425 195,-425 189,-419 189,-413 189,-413 189,-354 189,-354 189,-348 195,-342 201,-342 201,-342 296,-342 296,-342 302,-342 308,-348 308,-354 308,-354 308,-413 308,-413 308,-419 302,-425 296,-425\"/>\r\n",
       "<text text-anchor=\"start\" x=\"214.5\" y=\"-409.8\" font-family=\"Helvetica,sans-Serif\" font-size=\"14.00\">temp ≤ 0.5</text>\r\n",
       "<text text-anchor=\"start\" x=\"219.5\" y=\"-394.8\" font-family=\"Helvetica,sans-Serif\" font-size=\"14.00\">gini = 0.5</text>\r\n",
       "<text text-anchor=\"start\" x=\"205\" y=\"-379.8\" font-family=\"Helvetica,sans-Serif\" font-size=\"14.00\">samples = 10</text>\r\n",
       "<text text-anchor=\"start\" x=\"208\" y=\"-364.8\" font-family=\"Helvetica,sans-Serif\" font-size=\"14.00\">value = [5, 5]</text>\r\n",
       "<text text-anchor=\"start\" x=\"197\" y=\"-349.8\" font-family=\"Helvetica,sans-Serif\" font-size=\"14.00\">class = not_play</text>\r\n",
       "</g>\r\n",
       "<!-- 0&#45;&gt;2 -->\r\n",
       "<g id=\"edge2\" class=\"edge\">\r\n",
       "<title>0&#45;&gt;2</title>\r\n",
       "<path fill=\"none\" stroke=\"black\" d=\"M207.36,-460.91C212.05,-452.2 217.06,-442.9 221.9,-433.89\"/>\r\n",
       "<polygon fill=\"black\" stroke=\"black\" points=\"225.02,-435.48 226.68,-425.02 218.86,-432.17 225.02,-435.48\"/>\r\n",
       "<text text-anchor=\"middle\" x=\"233.86\" y=\"-445.27\" font-family=\"Helvetica,sans-Serif\" font-size=\"14.00\">False</text>\r\n",
       "</g>\r\n",
       "<!-- 3 -->\r\n",
       "<g id=\"node4\" class=\"node\">\r\n",
       "<title>3</title>\r\n",
       "<path fill=\"#9ccef2\" stroke=\"black\" d=\"M223,-306C223,-306 146,-306 146,-306 140,-306 134,-300 134,-294 134,-294 134,-235 134,-235 134,-229 140,-223 146,-223 146,-223 223,-223 223,-223 229,-223 235,-229 235,-235 235,-235 235,-294 235,-294 235,-300 229,-306 223,-306\"/>\r\n",
       "<text text-anchor=\"start\" x=\"142\" y=\"-290.8\" font-family=\"Helvetica,sans-Serif\" font-size=\"14.00\">weather ≤ 1.5</text>\r\n",
       "<text text-anchor=\"start\" x=\"147\" y=\"-275.8\" font-family=\"Helvetica,sans-Serif\" font-size=\"14.00\">gini = 0.444</text>\r\n",
       "<text text-anchor=\"start\" x=\"145\" y=\"-260.8\" font-family=\"Helvetica,sans-Serif\" font-size=\"14.00\">samples = 3</text>\r\n",
       "<text text-anchor=\"start\" x=\"144\" y=\"-245.8\" font-family=\"Helvetica,sans-Serif\" font-size=\"14.00\">value = [1, 2]</text>\r\n",
       "<text text-anchor=\"start\" x=\"147\" y=\"-230.8\" font-family=\"Helvetica,sans-Serif\" font-size=\"14.00\">class = play</text>\r\n",
       "</g>\r\n",
       "<!-- 2&#45;&gt;3 -->\r\n",
       "<g id=\"edge3\" class=\"edge\">\r\n",
       "<title>2&#45;&gt;3</title>\r\n",
       "<path fill=\"none\" stroke=\"black\" d=\"M226.3,-341.91C221.53,-333.2 216.44,-323.9 211.52,-314.89\"/>\r\n",
       "<polygon fill=\"black\" stroke=\"black\" points=\"214.53,-313.11 206.67,-306.02 208.39,-316.47 214.53,-313.11\"/>\r\n",
       "</g>\r\n",
       "<!-- 6 -->\r\n",
       "<g id=\"node7\" class=\"node\">\r\n",
       "<title>6</title>\r\n",
       "<path fill=\"#f8e0ce\" stroke=\"black\" d=\"M360,-306C360,-306 265,-306 265,-306 259,-306 253,-300 253,-294 253,-294 253,-235 253,-235 253,-229 259,-223 265,-223 265,-223 360,-223 360,-223 366,-223 372,-229 372,-235 372,-235 372,-294 372,-294 372,-300 366,-306 360,-306\"/>\r\n",
       "<text text-anchor=\"start\" x=\"278.5\" y=\"-290.8\" font-family=\"Helvetica,sans-Serif\" font-size=\"14.00\">temp ≤ 1.5</text>\r\n",
       "<text text-anchor=\"start\" x=\"279\" y=\"-275.8\" font-family=\"Helvetica,sans-Serif\" font-size=\"14.00\">gini = 0.49</text>\r\n",
       "<text text-anchor=\"start\" x=\"273\" y=\"-260.8\" font-family=\"Helvetica,sans-Serif\" font-size=\"14.00\">samples = 7</text>\r\n",
       "<text text-anchor=\"start\" x=\"272\" y=\"-245.8\" font-family=\"Helvetica,sans-Serif\" font-size=\"14.00\">value = [4, 3]</text>\r\n",
       "<text text-anchor=\"start\" x=\"261\" y=\"-230.8\" font-family=\"Helvetica,sans-Serif\" font-size=\"14.00\">class = not_play</text>\r\n",
       "</g>\r\n",
       "<!-- 2&#45;&gt;6 -->\r\n",
       "<g id=\"edge6\" class=\"edge\">\r\n",
       "<title>2&#45;&gt;6</title>\r\n",
       "<path fill=\"none\" stroke=\"black\" d=\"M270.7,-341.91C275.47,-333.2 280.56,-323.9 285.48,-314.89\"/>\r\n",
       "<polygon fill=\"black\" stroke=\"black\" points=\"288.61,-316.47 290.33,-306.02 282.47,-313.11 288.61,-316.47\"/>\r\n",
       "</g>\r\n",
       "<!-- 4 -->\r\n",
       "<g id=\"node5\" class=\"node\">\r\n",
       "<title>4</title>\r\n",
       "<path fill=\"#ffffff\" stroke=\"black\" d=\"M107,-179.5C107,-179.5 12,-179.5 12,-179.5 6,-179.5 0,-173.5 0,-167.5 0,-167.5 0,-123.5 0,-123.5 0,-117.5 6,-111.5 12,-111.5 12,-111.5 107,-111.5 107,-111.5 113,-111.5 119,-117.5 119,-123.5 119,-123.5 119,-167.5 119,-167.5 119,-173.5 113,-179.5 107,-179.5\"/>\r\n",
       "<text text-anchor=\"start\" x=\"30.5\" y=\"-164.3\" font-family=\"Helvetica,sans-Serif\" font-size=\"14.00\">gini = 0.5</text>\r\n",
       "<text text-anchor=\"start\" x=\"20\" y=\"-149.3\" font-family=\"Helvetica,sans-Serif\" font-size=\"14.00\">samples = 2</text>\r\n",
       "<text text-anchor=\"start\" x=\"19\" y=\"-134.3\" font-family=\"Helvetica,sans-Serif\" font-size=\"14.00\">value = [1, 1]</text>\r\n",
       "<text text-anchor=\"start\" x=\"8\" y=\"-119.3\" font-family=\"Helvetica,sans-Serif\" font-size=\"14.00\">class = not_play</text>\r\n",
       "</g>\r\n",
       "<!-- 3&#45;&gt;4 -->\r\n",
       "<g id=\"edge4\" class=\"edge\">\r\n",
       "<title>3&#45;&gt;4</title>\r\n",
       "<path fill=\"none\" stroke=\"black\" d=\"M141.13,-222.91C128.64,-211.21 115.01,-198.46 102.53,-186.78\"/>\r\n",
       "<polygon fill=\"black\" stroke=\"black\" points=\"104.63,-183.95 94.93,-179.67 99.84,-189.06 104.63,-183.95\"/>\r\n",
       "</g>\r\n",
       "<!-- 5 -->\r\n",
       "<g id=\"node6\" class=\"node\">\r\n",
       "<title>5</title>\r\n",
       "<path fill=\"#399de5\" stroke=\"black\" d=\"M222,-179.5C222,-179.5 149,-179.5 149,-179.5 143,-179.5 137,-173.5 137,-167.5 137,-167.5 137,-123.5 137,-123.5 137,-117.5 143,-111.5 149,-111.5 149,-111.5 222,-111.5 222,-111.5 228,-111.5 234,-117.5 234,-123.5 234,-123.5 234,-167.5 234,-167.5 234,-173.5 228,-179.5 222,-179.5\"/>\r\n",
       "<text text-anchor=\"start\" x=\"156.5\" y=\"-164.3\" font-family=\"Helvetica,sans-Serif\" font-size=\"14.00\">gini = 0.0</text>\r\n",
       "<text text-anchor=\"start\" x=\"146\" y=\"-149.3\" font-family=\"Helvetica,sans-Serif\" font-size=\"14.00\">samples = 1</text>\r\n",
       "<text text-anchor=\"start\" x=\"145\" y=\"-134.3\" font-family=\"Helvetica,sans-Serif\" font-size=\"14.00\">value = [0, 1]</text>\r\n",
       "<text text-anchor=\"start\" x=\"148\" y=\"-119.3\" font-family=\"Helvetica,sans-Serif\" font-size=\"14.00\">class = play</text>\r\n",
       "</g>\r\n",
       "<!-- 3&#45;&gt;5 -->\r\n",
       "<g id=\"edge5\" class=\"edge\">\r\n",
       "<title>3&#45;&gt;5</title>\r\n",
       "<path fill=\"none\" stroke=\"black\" d=\"M184.85,-222.91C184.94,-212.2 185.04,-200.62 185.13,-189.78\"/>\r\n",
       "<polygon fill=\"black\" stroke=\"black\" points=\"188.63,-189.7 185.22,-179.67 181.63,-189.64 188.63,-189.7\"/>\r\n",
       "</g>\r\n",
       "<!-- 7 -->\r\n",
       "<g id=\"node8\" class=\"node\">\r\n",
       "<title>7</title>\r\n",
       "<path fill=\"#e58139\" stroke=\"black\" d=\"M360,-179.5C360,-179.5 265,-179.5 265,-179.5 259,-179.5 253,-173.5 253,-167.5 253,-167.5 253,-123.5 253,-123.5 253,-117.5 259,-111.5 265,-111.5 265,-111.5 360,-111.5 360,-111.5 366,-111.5 372,-117.5 372,-123.5 372,-123.5 372,-167.5 372,-167.5 372,-173.5 366,-179.5 360,-179.5\"/>\r\n",
       "<text text-anchor=\"start\" x=\"283.5\" y=\"-164.3\" font-family=\"Helvetica,sans-Serif\" font-size=\"14.00\">gini = 0.0</text>\r\n",
       "<text text-anchor=\"start\" x=\"273\" y=\"-149.3\" font-family=\"Helvetica,sans-Serif\" font-size=\"14.00\">samples = 2</text>\r\n",
       "<text text-anchor=\"start\" x=\"272\" y=\"-134.3\" font-family=\"Helvetica,sans-Serif\" font-size=\"14.00\">value = [2, 0]</text>\r\n",
       "<text text-anchor=\"start\" x=\"261\" y=\"-119.3\" font-family=\"Helvetica,sans-Serif\" font-size=\"14.00\">class = not_play</text>\r\n",
       "</g>\r\n",
       "<!-- 6&#45;&gt;7 -->\r\n",
       "<g id=\"edge7\" class=\"edge\">\r\n",
       "<title>6&#45;&gt;7</title>\r\n",
       "<path fill=\"none\" stroke=\"black\" d=\"M312.5,-222.91C312.5,-212.2 312.5,-200.62 312.5,-189.78\"/>\r\n",
       "<polygon fill=\"black\" stroke=\"black\" points=\"316,-189.67 312.5,-179.67 309,-189.67 316,-189.67\"/>\r\n",
       "</g>\r\n",
       "<!-- 8 -->\r\n",
       "<g id=\"node9\" class=\"node\">\r\n",
       "<title>8</title>\r\n",
       "<path fill=\"#bddef6\" stroke=\"black\" d=\"M479,-187C479,-187 402,-187 402,-187 396,-187 390,-181 390,-175 390,-175 390,-116 390,-116 390,-110 396,-104 402,-104 402,-104 479,-104 479,-104 485,-104 491,-110 491,-116 491,-116 491,-175 491,-175 491,-181 485,-187 479,-187\"/>\r\n",
       "<text text-anchor=\"start\" x=\"398\" y=\"-171.8\" font-family=\"Helvetica,sans-Serif\" font-size=\"14.00\">weather ≤ 1.5</text>\r\n",
       "<text text-anchor=\"start\" x=\"407\" y=\"-156.8\" font-family=\"Helvetica,sans-Serif\" font-size=\"14.00\">gini = 0.48</text>\r\n",
       "<text text-anchor=\"start\" x=\"401\" y=\"-141.8\" font-family=\"Helvetica,sans-Serif\" font-size=\"14.00\">samples = 5</text>\r\n",
       "<text text-anchor=\"start\" x=\"400\" y=\"-126.8\" font-family=\"Helvetica,sans-Serif\" font-size=\"14.00\">value = [2, 3]</text>\r\n",
       "<text text-anchor=\"start\" x=\"403\" y=\"-111.8\" font-family=\"Helvetica,sans-Serif\" font-size=\"14.00\">class = play</text>\r\n",
       "</g>\r\n",
       "<!-- 6&#45;&gt;8 -->\r\n",
       "<g id=\"edge8\" class=\"edge\">\r\n",
       "<title>6&#45;&gt;8</title>\r\n",
       "<path fill=\"none\" stroke=\"black\" d=\"M356.91,-222.91C367.14,-213.56 378.1,-203.54 388.61,-193.93\"/>\r\n",
       "<polygon fill=\"black\" stroke=\"black\" points=\"391.15,-196.35 396.17,-187.02 386.43,-191.18 391.15,-196.35\"/>\r\n",
       "</g>\r\n",
       "<!-- 9 -->\r\n",
       "<g id=\"node10\" class=\"node\">\r\n",
       "<title>9</title>\r\n",
       "<path fill=\"#9ccef2\" stroke=\"black\" d=\"M414,-68C414,-68 341,-68 341,-68 335,-68 329,-62 329,-56 329,-56 329,-12 329,-12 329,-6 335,0 341,0 341,0 414,0 414,0 420,0 426,-6 426,-12 426,-12 426,-56 426,-56 426,-62 420,-68 414,-68\"/>\r\n",
       "<text text-anchor=\"start\" x=\"340\" y=\"-52.8\" font-family=\"Helvetica,sans-Serif\" font-size=\"14.00\">gini = 0.444</text>\r\n",
       "<text text-anchor=\"start\" x=\"338\" y=\"-37.8\" font-family=\"Helvetica,sans-Serif\" font-size=\"14.00\">samples = 3</text>\r\n",
       "<text text-anchor=\"start\" x=\"337\" y=\"-22.8\" font-family=\"Helvetica,sans-Serif\" font-size=\"14.00\">value = [1, 2]</text>\r\n",
       "<text text-anchor=\"start\" x=\"340\" y=\"-7.8\" font-family=\"Helvetica,sans-Serif\" font-size=\"14.00\">class = play</text>\r\n",
       "</g>\r\n",
       "<!-- 8&#45;&gt;9 -->\r\n",
       "<g id=\"edge9\" class=\"edge\">\r\n",
       "<title>8&#45;&gt;9</title>\r\n",
       "<path fill=\"none\" stroke=\"black\" d=\"M417.04,-103.73C412.06,-95.06 406.78,-85.9 401.77,-77.18\"/>\r\n",
       "<polygon fill=\"black\" stroke=\"black\" points=\"404.68,-75.22 396.66,-68.3 398.61,-78.71 404.68,-75.22\"/>\r\n",
       "</g>\r\n",
       "<!-- 10 -->\r\n",
       "<g id=\"node11\" class=\"node\">\r\n",
       "<title>10</title>\r\n",
       "<path fill=\"#ffffff\" stroke=\"black\" d=\"M551,-68C551,-68 456,-68 456,-68 450,-68 444,-62 444,-56 444,-56 444,-12 444,-12 444,-6 450,0 456,0 456,0 551,0 551,0 557,0 563,-6 563,-12 563,-12 563,-56 563,-56 563,-62 557,-68 551,-68\"/>\r\n",
       "<text text-anchor=\"start\" x=\"474.5\" y=\"-52.8\" font-family=\"Helvetica,sans-Serif\" font-size=\"14.00\">gini = 0.5</text>\r\n",
       "<text text-anchor=\"start\" x=\"464\" y=\"-37.8\" font-family=\"Helvetica,sans-Serif\" font-size=\"14.00\">samples = 2</text>\r\n",
       "<text text-anchor=\"start\" x=\"463\" y=\"-22.8\" font-family=\"Helvetica,sans-Serif\" font-size=\"14.00\">value = [1, 1]</text>\r\n",
       "<text text-anchor=\"start\" x=\"452\" y=\"-7.8\" font-family=\"Helvetica,sans-Serif\" font-size=\"14.00\">class = not_play</text>\r\n",
       "</g>\r\n",
       "<!-- 8&#45;&gt;10 -->\r\n",
       "<g id=\"edge10\" class=\"edge\">\r\n",
       "<title>8&#45;&gt;10</title>\r\n",
       "<path fill=\"none\" stroke=\"black\" d=\"M463.96,-103.73C468.94,-95.06 474.22,-85.9 479.23,-77.18\"/>\r\n",
       "<polygon fill=\"black\" stroke=\"black\" points=\"482.39,-78.71 484.34,-68.3 476.32,-75.22 482.39,-78.71\"/>\r\n",
       "</g>\r\n",
       "</g>\r\n",
       "</svg>\r\n"
      ],
      "text/plain": [
       "<graphviz.files.Source at 0x26a93942fd0>"
      ]
     },
     "execution_count": 10,
     "metadata": {},
     "output_type": "execute_result"
    }
   ],
   "source": [
    "dot_data = export_graphviz(clf, out_file=None,\n",
    "                                        feature_names=[\"weather\",\"temp\"],\n",
    "                                        class_names=[\"not_play\",\"play\"],\n",
    "                                        filled=True, rounded=True,\n",
    "                                        special_characters=True)\n",
    "graph = graphviz.Source(dot_data)\n",
    "graph"
   ]
  },
  {
   "cell_type": "code",
   "execution_count": null,
   "metadata": {},
   "outputs": [],
   "source": []
  }
 ],
 "metadata": {
  "kernelspec": {
   "display_name": "Python 3",
   "language": "python",
   "name": "python3"
  },
  "language_info": {
   "codemirror_mode": {
    "name": "ipython",
    "version": 3
   },
   "file_extension": ".py",
   "mimetype": "text/x-python",
   "name": "python",
   "nbconvert_exporter": "python",
   "pygments_lexer": "ipython3",
   "version": "3.8.1"
  }
 },
 "nbformat": 4,
 "nbformat_minor": 4
}
