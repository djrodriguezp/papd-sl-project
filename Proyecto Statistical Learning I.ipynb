{
 "cells": [
  {
   "cell_type": "markdown",
   "metadata": {},
   "source": [
    "# Proyecto Statistical Learning I"
   ]
  },
  {
   "cell_type": "code",
   "execution_count": 2,
   "metadata": {},
   "outputs": [],
   "source": [
    "import pandas as pd\n",
    "import numpy as np\n",
    "import tensorflow as tf\n",
    "import datetime\n",
    "import matplotlib.pyplot as plt\n",
    "import seaborn as sns\n",
    "from collections import Counter\n",
    "from sklearn.model_selection import train_test_split\n",
    "from sklearn import metrics\n",
    "from sklearn import preprocessing\n",
    "from scipy import stats\n",
    "\n",
    "\n",
    "#habilitamos compatibilidad para TensorFlow v1\n",
    "if tf.__version__.startswith(\"2.\"):\n",
    "  import tensorflow.compat.v1 as tf\n",
    "  tf.compat.v1.disable_v2_behavior()\n",
    "  tf.compat.v1.disable_eager_execution()"
   ]
  },
  {
   "cell_type": "code",
   "execution_count": 3,
   "metadata": {},
   "outputs": [
    {
     "data": {
      "text/html": [
       "<div>\n",
       "<style scoped>\n",
       "    .dataframe tbody tr th:only-of-type {\n",
       "        vertical-align: middle;\n",
       "    }\n",
       "\n",
       "    .dataframe tbody tr th {\n",
       "        vertical-align: top;\n",
       "    }\n",
       "\n",
       "    .dataframe thead th {\n",
       "        text-align: right;\n",
       "    }\n",
       "</style>\n",
       "<table border=\"1\" class=\"dataframe\">\n",
       "  <thead>\n",
       "    <tr style=\"text-align: right;\">\n",
       "      <th></th>\n",
       "      <th>PassengerId</th>\n",
       "      <th>Name</th>\n",
       "      <th>Age</th>\n",
       "      <th>SibSp</th>\n",
       "      <th>Parch</th>\n",
       "      <th>Ticket</th>\n",
       "      <th>Fare</th>\n",
       "      <th>Cabin</th>\n",
       "      <th>Embarked</th>\n",
       "      <th>passenger_class</th>\n",
       "      <th>passenger_sex</th>\n",
       "      <th>passenger_survived</th>\n",
       "    </tr>\n",
       "  </thead>\n",
       "  <tbody>\n",
       "    <tr>\n",
       "      <th>625</th>\n",
       "      <td>626</td>\n",
       "      <td>Sutton, Mr. Frederick</td>\n",
       "      <td>61.0</td>\n",
       "      <td>0</td>\n",
       "      <td>0</td>\n",
       "      <td>36963</td>\n",
       "      <td>32.3208</td>\n",
       "      <td>D50</td>\n",
       "      <td>S</td>\n",
       "      <td>Upper</td>\n",
       "      <td>M</td>\n",
       "      <td>N</td>\n",
       "    </tr>\n",
       "    <tr>\n",
       "      <th>52</th>\n",
       "      <td>53</td>\n",
       "      <td>Harper, Mrs. Henry Sleeper (Myna Haxtun)</td>\n",
       "      <td>49.0</td>\n",
       "      <td>1</td>\n",
       "      <td>0</td>\n",
       "      <td>PC 17572</td>\n",
       "      <td>76.7292</td>\n",
       "      <td>D33</td>\n",
       "      <td>C</td>\n",
       "      <td>Upper</td>\n",
       "      <td>F</td>\n",
       "      <td>Y</td>\n",
       "    </tr>\n",
       "    <tr>\n",
       "      <th>845</th>\n",
       "      <td>846</td>\n",
       "      <td>Abbing, Mr. Anthony</td>\n",
       "      <td>42.0</td>\n",
       "      <td>0</td>\n",
       "      <td>0</td>\n",
       "      <td>C.A. 5547</td>\n",
       "      <td>7.5500</td>\n",
       "      <td>NaN</td>\n",
       "      <td>S</td>\n",
       "      <td>Lower</td>\n",
       "      <td>M</td>\n",
       "      <td>N</td>\n",
       "    </tr>\n",
       "    <tr>\n",
       "      <th>693</th>\n",
       "      <td>694</td>\n",
       "      <td>Saad, Mr. Khalil</td>\n",
       "      <td>25.0</td>\n",
       "      <td>0</td>\n",
       "      <td>0</td>\n",
       "      <td>2672</td>\n",
       "      <td>7.2250</td>\n",
       "      <td>NaN</td>\n",
       "      <td>C</td>\n",
       "      <td>Lower</td>\n",
       "      <td>M</td>\n",
       "      <td>N</td>\n",
       "    </tr>\n",
       "    <tr>\n",
       "      <th>570</th>\n",
       "      <td>571</td>\n",
       "      <td>Harris, Mr. George</td>\n",
       "      <td>62.0</td>\n",
       "      <td>0</td>\n",
       "      <td>0</td>\n",
       "      <td>S.W./PP 752</td>\n",
       "      <td>10.5000</td>\n",
       "      <td>NaN</td>\n",
       "      <td>S</td>\n",
       "      <td>Middle</td>\n",
       "      <td>M</td>\n",
       "      <td>Y</td>\n",
       "    </tr>\n",
       "    <tr>\n",
       "      <th>...</th>\n",
       "      <td>...</td>\n",
       "      <td>...</td>\n",
       "      <td>...</td>\n",
       "      <td>...</td>\n",
       "      <td>...</td>\n",
       "      <td>...</td>\n",
       "      <td>...</td>\n",
       "      <td>...</td>\n",
       "      <td>...</td>\n",
       "      <td>...</td>\n",
       "      <td>...</td>\n",
       "      <td>...</td>\n",
       "    </tr>\n",
       "    <tr>\n",
       "      <th>811</th>\n",
       "      <td>812</td>\n",
       "      <td>Lester, Mr. James</td>\n",
       "      <td>39.0</td>\n",
       "      <td>0</td>\n",
       "      <td>0</td>\n",
       "      <td>A/4 48871</td>\n",
       "      <td>24.1500</td>\n",
       "      <td>NaN</td>\n",
       "      <td>S</td>\n",
       "      <td>Lower</td>\n",
       "      <td>M</td>\n",
       "      <td>N</td>\n",
       "    </tr>\n",
       "    <tr>\n",
       "      <th>307</th>\n",
       "      <td>308</td>\n",
       "      <td>Penasco y Castellana, Mrs. Victor de Satode (M...</td>\n",
       "      <td>17.0</td>\n",
       "      <td>1</td>\n",
       "      <td>0</td>\n",
       "      <td>PC 17758</td>\n",
       "      <td>108.9000</td>\n",
       "      <td>C65</td>\n",
       "      <td>C</td>\n",
       "      <td>Upper</td>\n",
       "      <td>F</td>\n",
       "      <td>Y</td>\n",
       "    </tr>\n",
       "    <tr>\n",
       "      <th>361</th>\n",
       "      <td>362</td>\n",
       "      <td>del Carlo, Mr. Sebastiano</td>\n",
       "      <td>29.0</td>\n",
       "      <td>1</td>\n",
       "      <td>0</td>\n",
       "      <td>SC/PARIS 2167</td>\n",
       "      <td>27.7208</td>\n",
       "      <td>NaN</td>\n",
       "      <td>C</td>\n",
       "      <td>Middle</td>\n",
       "      <td>M</td>\n",
       "      <td>N</td>\n",
       "    </tr>\n",
       "    <tr>\n",
       "      <th>202</th>\n",
       "      <td>203</td>\n",
       "      <td>Johanson, Mr. Jakob Alfred</td>\n",
       "      <td>34.0</td>\n",
       "      <td>0</td>\n",
       "      <td>0</td>\n",
       "      <td>3101264</td>\n",
       "      <td>6.4958</td>\n",
       "      <td>NaN</td>\n",
       "      <td>S</td>\n",
       "      <td>Lower</td>\n",
       "      <td>M</td>\n",
       "      <td>N</td>\n",
       "    </tr>\n",
       "    <tr>\n",
       "      <th>406</th>\n",
       "      <td>407</td>\n",
       "      <td>Widegren, Mr. Carl/Charles Peter</td>\n",
       "      <td>51.0</td>\n",
       "      <td>0</td>\n",
       "      <td>0</td>\n",
       "      <td>347064</td>\n",
       "      <td>7.7500</td>\n",
       "      <td>NaN</td>\n",
       "      <td>S</td>\n",
       "      <td>Lower</td>\n",
       "      <td>M</td>\n",
       "      <td>N</td>\n",
       "    </tr>\n",
       "  </tbody>\n",
       "</table>\n",
       "<p>569 rows × 12 columns</p>\n",
       "</div>"
      ],
      "text/plain": [
       "     PassengerId                                               Name   Age  \\\n",
       "625          626                              Sutton, Mr. Frederick  61.0   \n",
       "52            53           Harper, Mrs. Henry Sleeper (Myna Haxtun)  49.0   \n",
       "845          846                                Abbing, Mr. Anthony  42.0   \n",
       "693          694                                   Saad, Mr. Khalil  25.0   \n",
       "570          571                                 Harris, Mr. George  62.0   \n",
       "..           ...                                                ...   ...   \n",
       "811          812                                  Lester, Mr. James  39.0   \n",
       "307          308  Penasco y Castellana, Mrs. Victor de Satode (M...  17.0   \n",
       "361          362                          del Carlo, Mr. Sebastiano  29.0   \n",
       "202          203                         Johanson, Mr. Jakob Alfred  34.0   \n",
       "406          407                   Widegren, Mr. Carl/Charles Peter  51.0   \n",
       "\n",
       "     SibSp  Parch         Ticket      Fare Cabin Embarked passenger_class  \\\n",
       "625      0      0          36963   32.3208   D50        S           Upper   \n",
       "52       1      0       PC 17572   76.7292   D33        C           Upper   \n",
       "845      0      0      C.A. 5547    7.5500   NaN        S           Lower   \n",
       "693      0      0           2672    7.2250   NaN        C           Lower   \n",
       "570      0      0    S.W./PP 752   10.5000   NaN        S          Middle   \n",
       "..     ...    ...            ...       ...   ...      ...             ...   \n",
       "811      0      0      A/4 48871   24.1500   NaN        S           Lower   \n",
       "307      1      0       PC 17758  108.9000   C65        C           Upper   \n",
       "361      1      0  SC/PARIS 2167   27.7208   NaN        C          Middle   \n",
       "202      0      0        3101264    6.4958   NaN        S           Lower   \n",
       "406      0      0         347064    7.7500   NaN        S           Lower   \n",
       "\n",
       "    passenger_sex passenger_survived  \n",
       "625             M                  N  \n",
       "52              F                  Y  \n",
       "845             M                  N  \n",
       "693             M                  N  \n",
       "570             M                  Y  \n",
       "..            ...                ...  \n",
       "811             M                  N  \n",
       "307             F                  Y  \n",
       "361             M                  N  \n",
       "202             M                  N  \n",
       "406             M                  N  \n",
       "\n",
       "[569 rows x 12 columns]"
      ]
     },
     "execution_count": 3,
     "metadata": {},
     "output_type": "execute_result"
    }
   ],
   "source": [
    "titanic_dataset = pd.read_csv('data_titanic_proyecto.csv')\n",
    "\n",
    "train_data, test_data = train_test_split(titanic_dataset, test_size=0.2)\n",
    "train_data, validation_data = train_test_split(train_data, test_size=0.2)\n",
    "\n",
    "train_data"
   ]
  },
  {
   "cell_type": "markdown",
   "metadata": {},
   "source": [
    "### Análisis exploratorio de datos"
   ]
  },
  {
   "cell_type": "code",
   "execution_count": 4,
   "metadata": {
    "scrolled": true
   },
   "outputs": [
    {
     "data": {
      "text/plain": [
       "PassengerId             0\n",
       "Name                    0\n",
       "Age                   114\n",
       "SibSp                   0\n",
       "Parch                   0\n",
       "Ticket                  0\n",
       "Fare                    0\n",
       "Cabin                 439\n",
       "Embarked                2\n",
       "passenger_class         0\n",
       "passenger_sex           0\n",
       "passenger_survived      0\n",
       "dtype: int64"
      ]
     },
     "execution_count": 4,
     "metadata": {},
     "output_type": "execute_result"
    }
   ],
   "source": [
    "train_data.isna().sum()"
   ]
  },
  {
   "cell_type": "code",
   "execution_count": 5,
   "metadata": {
    "scrolled": false
   },
   "outputs": [
    {
     "name": "stdout",
     "output_type": "stream",
     "text": [
      "PassengerId : 569\n",
      "Name : 569\n",
      "Age : 77\n",
      "SibSp : 7\n",
      "Parch : 6\n",
      "Ticket : 473\n",
      "Fare : 213\n",
      "Embarked : 3\n",
      "passenger_class : 3\n",
      "passenger_sex : 2\n",
      "passenger_survived : 2\n"
     ]
    }
   ],
   "source": [
    "for column in train_data.drop(['Cabin'],axis=1):\n",
    "    print(column+\" : \"+str(train_data[column].dropna().unique().shape[0]))"
   ]
  },
  {
   "cell_type": "code",
   "execution_count": 6,
   "metadata": {},
   "outputs": [
    {
     "data": {
      "image/png": "[encoded data removed]",
      "text/plain": [
       "<Figure size 1080x1080 with 5 Axes>"
      ]
     },
     "metadata": {
      "needs_background": "light"
     },
     "output_type": "display_data"
    }
   ],
   "source": [
    "f,axes = plt.subplots(3,2,sharex=False, figsize=(15,15))\n",
    "i_vars = [\"passenger_sex\",\"passenger_class\",\"Embarked\",\"SibSp\",\"Parch\"]\n",
    "\n",
    "for i in range(len(i_vars)):\n",
    "    ivar = i_vars[i]\n",
    "    labels = sorted(train_data[ivar].dropna().unique())\n",
    "    survivors = []\n",
    "    deaths = []\n",
    "    for label in labels:\n",
    "        survivors.append(train_data[(train_data[ivar] == label) & (train_data[\"passenger_survived\"] == \"Y\")][ivar].count())\n",
    "        deaths.append(train_data[(train_data[ivar] == label) & (train_data[\"passenger_survived\"] == \"N\")][ivar].count())\n",
    "        \n",
    "    width = 0.20\n",
    "    x_plt = np.arange(len(labels))\n",
    "    \n",
    "    ax = axes[i//2,i%2]\n",
    "    rects1 = ax.bar(x_plt, survivors, width, label='Sobrevivieron')\n",
    "    rects2 = ax.bar(x_plt + width, deaths, width, label='Murieron',color=\"red\")\n",
    "\n",
    "    ax.set_ylabel('Cantidad')\n",
    "    ax.set_title('Relación '+ivar+' y passenger_survived', fontsize=15)\n",
    "    ax.set_xticks(x_plt+width/2)\n",
    "    ax.set_xticklabels(labels)\n",
    "    ax.legend()\n",
    "    \n",
    "f.delaxes(axes[2,1])\n",
    "plt.show()"
   ]
  },
  {
   "cell_type": "code",
   "execution_count": 7,
   "metadata": {
    "scrolled": true
   },
   "outputs": [
    {
     "data": {
      "image/png": "[encoded data removed]",
      "text/plain": [
       "<Figure size 576x360 with 1 Axes>"
      ]
     },
     "metadata": {},
     "output_type": "display_data"
    }
   ],
   "source": [
    "sns.set();\n",
    "plt.figure(figsize=(8,5))\n",
    "sns.distplot(train_data[\"Age\"].dropna(), kde=False, label=\"Pasajeros\")\n",
    "sns.distplot(train_data[(train_data[\"passenger_survived\"] == \"N\")][\"Age\"].dropna(),color=\"r\", kde =False, label=\"Murieron\")\n",
    "sns.distplot(train_data[(train_data[\"passenger_survived\"] == \"Y\")][\"Age\"].dropna(), color=\"green\", kde =False, label=\"Sobrevivieron\")\n",
    "plt.title(\"Edad Pasajeros\",fontsize=15)\n",
    "plt.legend()\n",
    "plt.show()"
   ]
  },
  {
   "cell_type": "code",
   "execution_count": 8,
   "metadata": {
    "scrolled": false
   },
   "outputs": [
    {
     "data": {
      "image/png": "[encoded data removed]",
      "text/plain": [
       "<Figure size 1080x360 with 2 Axes>"
      ]
     },
     "metadata": {},
     "output_type": "display_data"
    }
   ],
   "source": [
    "sns.set();\n",
    "\n",
    "f,axes = plt.subplots(1,2,sharex=False, figsize=(15,5))\n",
    "\n",
    "sns.distplot(train_data[(train_data[\"passenger_sex\"] == \"F\") & (train_data[\"passenger_survived\"] == \"Y\")][\"Age\"].dropna(), color=\"green\", kde=False, ax=axes[0],label=\"Sobrevivieron\")\n",
    "sns.distplot(train_data[(train_data[\"passenger_sex\"] == \"F\") & (train_data[\"passenger_survived\"] == \"N\")][\"Age\"].dropna(), color=\"red\", kde=False, ax=axes[0],label=\"Murieron\")\n",
    "sns.distplot(train_data[(train_data[\"passenger_sex\"] == \"M\") & (train_data[\"passenger_survived\"] == \"Y\")][\"Age\"].dropna(), color=\"green\", kde=False,ax=axes[1], label=\"Sobrevivieron\")\n",
    "sns.distplot(train_data[(train_data[\"passenger_sex\"] == \"M\") & (train_data[\"passenger_survived\"] == \"N\")][\"Age\"].dropna(), color=\"red\", kde=False, ax=axes[1],label=\"Murieron\")\n",
    "axes[0].legend()\n",
    "axes[0].set_title(\"Mujeres\",fontsize=15)\n",
    "axes[1].legend()\n",
    "axes[1].set_title(\"Hombres\",fontsize=15)\n",
    "plt.show()"
   ]
  },
  {
   "cell_type": "markdown",
   "metadata": {},
   "source": [
    "### Selección de variables y feature engineering\n",
    "Según el análisis realizado se seleccionó como variables independientes **passenger_sex** y **passenger_class** por lo que se procederá a realizar un mapeo númerico de categorías a estas variables y a la variable **passenger_survived** la cuál contiene la clasificación de sobrevivencia.\n",
    "\n",
    "Estás variables codificadas se agregarán como una nueva columna en el dataset de pruebas."
   ]
  },
  {
   "cell_type": "code",
   "execution_count": 28,
   "metadata": {},
   "outputs": [
    {
     "data": {
      "text/html": [
       "<div>\n",
       "<style scoped>\n",
       "    .dataframe tbody tr th:only-of-type {\n",
       "        vertical-align: middle;\n",
       "    }\n",
       "\n",
       "    .dataframe tbody tr th {\n",
       "        vertical-align: top;\n",
       "    }\n",
       "\n",
       "    .dataframe thead th {\n",
       "        text-align: right;\n",
       "    }\n",
       "</style>\n",
       "<table border=\"1\" class=\"dataframe\">\n",
       "  <thead>\n",
       "    <tr style=\"text-align: right;\">\n",
       "      <th></th>\n",
       "      <th>PassengerId</th>\n",
       "      <th>Name</th>\n",
       "      <th>Age</th>\n",
       "      <th>SibSp</th>\n",
       "      <th>Parch</th>\n",
       "      <th>Ticket</th>\n",
       "      <th>Fare</th>\n",
       "      <th>Cabin</th>\n",
       "      <th>Embarked</th>\n",
       "      <th>passenger_class</th>\n",
       "      <th>passenger_sex</th>\n",
       "      <th>passenger_survived</th>\n",
       "      <th>sex_encoded</th>\n",
       "      <th>class_encoded</th>\n",
       "      <th>survived_encoded</th>\n",
       "      <th>age_t</th>\n",
       "      <th>sibp_t</th>\n",
       "      <th>parch_t</th>\n",
       "      <th>embarked_t</th>\n",
       "    </tr>\n",
       "  </thead>\n",
       "  <tbody>\n",
       "    <tr>\n",
       "      <th>625</th>\n",
       "      <td>626</td>\n",
       "      <td>Sutton, Mr. Frederick</td>\n",
       "      <td>61.0</td>\n",
       "      <td>0</td>\n",
       "      <td>0</td>\n",
       "      <td>36963</td>\n",
       "      <td>32.3208</td>\n",
       "      <td>D50</td>\n",
       "      <td>S</td>\n",
       "      <td>Upper</td>\n",
       "      <td>M</td>\n",
       "      <td>N</td>\n",
       "      <td>0</td>\n",
       "      <td>2</td>\n",
       "      <td>0</td>\n",
       "      <td>61</td>\n",
       "      <td>0</td>\n",
       "      <td>0</td>\n",
       "      <td>S</td>\n",
       "    </tr>\n",
       "    <tr>\n",
       "      <th>52</th>\n",
       "      <td>53</td>\n",
       "      <td>Harper, Mrs. Henry Sleeper (Myna Haxtun)</td>\n",
       "      <td>49.0</td>\n",
       "      <td>1</td>\n",
       "      <td>0</td>\n",
       "      <td>PC 17572</td>\n",
       "      <td>76.7292</td>\n",
       "      <td>D33</td>\n",
       "      <td>C</td>\n",
       "      <td>Upper</td>\n",
       "      <td>F</td>\n",
       "      <td>Y</td>\n",
       "      <td>1</td>\n",
       "      <td>2</td>\n",
       "      <td>1</td>\n",
       "      <td>49</td>\n",
       "      <td>1</td>\n",
       "      <td>0</td>\n",
       "      <td>C</td>\n",
       "    </tr>\n",
       "    <tr>\n",
       "      <th>845</th>\n",
       "      <td>846</td>\n",
       "      <td>Abbing, Mr. Anthony</td>\n",
       "      <td>42.0</td>\n",
       "      <td>0</td>\n",
       "      <td>0</td>\n",
       "      <td>C.A. 5547</td>\n",
       "      <td>7.5500</td>\n",
       "      <td>NaN</td>\n",
       "      <td>S</td>\n",
       "      <td>Lower</td>\n",
       "      <td>M</td>\n",
       "      <td>N</td>\n",
       "      <td>0</td>\n",
       "      <td>0</td>\n",
       "      <td>0</td>\n",
       "      <td>42</td>\n",
       "      <td>0</td>\n",
       "      <td>0</td>\n",
       "      <td>S</td>\n",
       "    </tr>\n",
       "    <tr>\n",
       "      <th>693</th>\n",
       "      <td>694</td>\n",
       "      <td>Saad, Mr. Khalil</td>\n",
       "      <td>25.0</td>\n",
       "      <td>0</td>\n",
       "      <td>0</td>\n",
       "      <td>2672</td>\n",
       "      <td>7.2250</td>\n",
       "      <td>NaN</td>\n",
       "      <td>C</td>\n",
       "      <td>Lower</td>\n",
       "      <td>M</td>\n",
       "      <td>N</td>\n",
       "      <td>0</td>\n",
       "      <td>0</td>\n",
       "      <td>0</td>\n",
       "      <td>25</td>\n",
       "      <td>0</td>\n",
       "      <td>0</td>\n",
       "      <td>C</td>\n",
       "    </tr>\n",
       "    <tr>\n",
       "      <th>570</th>\n",
       "      <td>571</td>\n",
       "      <td>Harris, Mr. George</td>\n",
       "      <td>62.0</td>\n",
       "      <td>0</td>\n",
       "      <td>0</td>\n",
       "      <td>S.W./PP 752</td>\n",
       "      <td>10.5000</td>\n",
       "      <td>NaN</td>\n",
       "      <td>S</td>\n",
       "      <td>Middle</td>\n",
       "      <td>M</td>\n",
       "      <td>Y</td>\n",
       "      <td>0</td>\n",
       "      <td>1</td>\n",
       "      <td>1</td>\n",
       "      <td>62</td>\n",
       "      <td>0</td>\n",
       "      <td>0</td>\n",
       "      <td>S</td>\n",
       "    </tr>\n",
       "  </tbody>\n",
       "</table>\n",
       "</div>"
      ],
      "text/plain": [
       "     PassengerId                                      Name   Age  SibSp  \\\n",
       "625          626                     Sutton, Mr. Frederick  61.0      0   \n",
       "52            53  Harper, Mrs. Henry Sleeper (Myna Haxtun)  49.0      1   \n",
       "845          846                       Abbing, Mr. Anthony  42.0      0   \n",
       "693          694                          Saad, Mr. Khalil  25.0      0   \n",
       "570          571                        Harris, Mr. George  62.0      0   \n",
       "\n",
       "     Parch       Ticket     Fare Cabin Embarked passenger_class passenger_sex  \\\n",
       "625      0        36963  32.3208   D50        S           Upper             M   \n",
       "52       0     PC 17572  76.7292   D33        C           Upper             F   \n",
       "845      0    C.A. 5547   7.5500   NaN        S           Lower             M   \n",
       "693      0         2672   7.2250   NaN        C           Lower             M   \n",
       "570      0  S.W./PP 752  10.5000   NaN        S          Middle             M   \n",
       "\n",
       "    passenger_survived  sex_encoded  class_encoded  survived_encoded  age_t  \\\n",
       "625                  N            0              2                 0     61   \n",
       "52                   Y            1              2                 1     49   \n",
       "845                  N            0              0                 0     42   \n",
       "693                  N            0              0                 0     25   \n",
       "570                  Y            0              1                 1     62   \n",
       "\n",
       "     sibp_t  parch_t embarked_t  \n",
       "625       0        0          S  \n",
       "52        1        0          C  \n",
       "845       0        0          S  \n",
       "693       0        0          C  \n",
       "570       0        0          S  "
      ]
     },
     "execution_count": 28,
     "metadata": {},
     "output_type": "execute_result"
    }
   ],
   "source": [
    "train_data[\"sex_encoded\"] = train_data[\"passenger_sex\"].map({'M': 0, 'F': 1}).astype(int)\n",
    "train_data[\"class_encoded\"] = train_data[\"passenger_class\"].map( {'Lower': 0, 'Middle': 1,'Upper':2}).astype(int)\n",
    "train_data[\"survived_encoded\"] = train_data[\"passenger_survived\"].map({'N': 0, 'Y': 1}).astype(int)\n",
    "train_data[\"age_t\"] = train_data[\"Age\"].fillna(train_data[\"Age\"].mean()).astype(int)\n",
    "\n",
    "train_data.head(5)"
   ]
  },
  {
   "cell_type": "code",
   "execution_count": 10,
   "metadata": {},
   "outputs": [
    {
     "data": {
      "text/html": [
       "<div>\n",
       "<style scoped>\n",
       "    .dataframe tbody tr th:only-of-type {\n",
       "        vertical-align: middle;\n",
       "    }\n",
       "\n",
       "    .dataframe tbody tr th {\n",
       "        vertical-align: top;\n",
       "    }\n",
       "\n",
       "    .dataframe thead th {\n",
       "        text-align: right;\n",
       "    }\n",
       "</style>\n",
       "<table border=\"1\" class=\"dataframe\">\n",
       "  <thead>\n",
       "    <tr style=\"text-align: right;\">\n",
       "      <th></th>\n",
       "      <th>PassengerId</th>\n",
       "      <th>Age</th>\n",
       "      <th>SibSp</th>\n",
       "      <th>Parch</th>\n",
       "      <th>Fare</th>\n",
       "      <th>sex_encoded</th>\n",
       "      <th>class_encoded</th>\n",
       "      <th>survived_encoded</th>\n",
       "      <th>age_t</th>\n",
       "      <th>sibp_t</th>\n",
       "      <th>parch_t</th>\n",
       "    </tr>\n",
       "  </thead>\n",
       "  <tbody>\n",
       "    <tr>\n",
       "      <th>0</th>\n",
       "      <td>-0.055679</td>\n",
       "      <td>-0.079801</td>\n",
       "      <td>-0.013194</td>\n",
       "      <td>0.111632</td>\n",
       "      <td>0.264985</td>\n",
       "      <td>0.538198</td>\n",
       "      <td>0.335493</td>\n",
       "      <td>1.0</td>\n",
       "      <td>-0.070087</td>\n",
       "      <td>-0.013194</td>\n",
       "      <td>0.111632</td>\n",
       "    </tr>\n",
       "  </tbody>\n",
       "</table>\n",
       "</div>"
      ],
      "text/plain": [
       "   PassengerId       Age     SibSp     Parch      Fare  sex_encoded  \\\n",
       "0    -0.055679 -0.079801 -0.013194  0.111632  0.264985     0.538198   \n",
       "\n",
       "   class_encoded  survived_encoded     age_t    sibp_t   parch_t  \n",
       "0       0.335493               1.0 -0.070087 -0.013194  0.111632  "
      ]
     },
     "execution_count": 10,
     "metadata": {},
     "output_type": "execute_result"
    },
    {
     "data": {
      "image/png": "[encoded data removed]",
      "text/plain": [
       "<Figure size 864x432 with 2 Axes>"
      ]
     },
     "metadata": {},
     "output_type": "display_data"
    }
   ],
   "source": [
    "corr = train_data.corrwith(train_data[\"survived_encoded\"])\n",
    "\n",
    "plt.figure(figsize=(12,6))\n",
    "sns.heatmap(train_data.corr(), cmap=\"Blues\", annot=True)\n",
    "\n",
    "corr.to_frame().T"
   ]
  },
  {
   "cell_type": "markdown",
   "metadata": {},
   "source": [
    "Como se puede validar en el mapa de calor, sexo y clase son las variables que representan una correlación más alta entre las demás variables, por lo que se seleccionaran dichas variables para realizar entrenar los modelos de predicción."
   ]
  },
  {
   "cell_type": "markdown",
   "metadata": {},
   "source": [
    "## Modelos de Clasificación"
   ]
  },
  {
   "cell_type": "markdown",
   "metadata": {},
   "source": [
    "### Definición de Clasificador Naive Bayes\n",
    "\n",
    "Se define la clase **NaiveBayesClassifier** para poder realizar predicciones por medio de un clasificador binario Naive Bayes. Este recibe como entrada en su constructor un arreglo con variables independientes y la variable a predecir (clases).\n",
    "\n",
    "El método **predict** recibe como entrada un arreglo con las variables independientes y retorna como resultado un arreglo con las predicciones realizadas."
   ]
  },
  {
   "cell_type": "code",
   "execution_count": 11,
   "metadata": {},
   "outputs": [],
   "source": [
    "class NaiveBayesClassifier:\n",
    "    def __init__(self,x,y):\n",
    "        self.x = x\n",
    "        self.y = y\n",
    "        self.df = pd.DataFrame(np.hstack((x,y.reshape(-1,1))))\n",
    "        self.df.columns = [*self.df.columns[:-1], 'Y']\n",
    "        self.means = self.df.groupby('Y').mean()\n",
    "        self.stds = self.df.groupby('Y').std()\n",
    "        self.class_prob = self.df.groupby('Y')['Y'].count() / self.df.shape[0]\n",
    "    \n",
    "    def predict(self,x):\n",
    "        predictions = np.zeros((len(self.df['Y'].unique()),x.shape[0]))\n",
    "        for c in self.df['Y'].unique():\n",
    "            mean = self.means.loc[c].to_numpy()\n",
    "            std = self.stds.loc[c].to_numpy() \n",
    "            vars_prob = (1 / (np.sqrt(2 * np.pi) * std)) * np.exp(-((x-mean)**2 / (2 * std**2 )))\n",
    "            probablilites = self.class_prob[c]*np.product(vars_prob,axis=1)\n",
    "            predictions[c] = probablilites\n",
    "\n",
    "        return np.argmax(predictions.T,axis=1)"
   ]
  },
  {
   "cell_type": "markdown",
   "metadata": {},
   "source": [
    "### Definición de Modelo de Regresión Logistica"
   ]
  },
  {
   "cell_type": "markdown",
   "metadata": {},
   "source": [
    "Se implementa la clase **LogisticRegressionModel** la cual cuenta con 2 métodos, el método **train** el cuál recibe como entrada las variables independientes, las clasificaciones y los hiperpárametros como epochs, learning rate, batch_size, etc.\n",
    "\n",
    "Una vez entrenado el modelo, los pesos calculados durante este proceso son almacenados en el campo **weights** y son utilizados por el método **predict** para realizar clasificaciones sobre el parametro brindado a este método."
   ]
  },
  {
   "cell_type": "code",
   "execution_count": 12,
   "metadata": {},
   "outputs": [],
   "source": [
    "class LogisticRegressionModel:\n",
    "    def __init__(self):\n",
    "        self.weights = None\n",
    "        \n",
    "    def train(self,x, y , epochs, lr, batch_size, beta, print_interval,logs_dir):\n",
    "        x = np.hstack((x,np.ones((x.shape[0],1))))\n",
    "        y = y.reshape(-1,1)\n",
    "        tf.reset_default_graph()\n",
    "\n",
    "        total_iterations = int(x.shape[0]/batch_size)\n",
    "\n",
    "        with tf.name_scope(\"Pesos\"):\n",
    "            x_train = tf.placeholder(tf.float32,[batch_size,x.shape[1]],\"X\")\n",
    "            train_labels = tf.placeholder(tf.float32,[batch_size,y.shape[1]],\"Train_Labels\")\n",
    "            weights = tf.Variable(name=\"Weights\", initial_value=tf.zeros(([x.shape[1],y.shape[1]]),dtype=tf.float32))\n",
    "        with tf.name_scope(\"Calcular_Logits\"):\n",
    "            logits = tf.matmul(x_train,weights)\n",
    "        with tf.name_scope(\"Regularizacion\"):\n",
    "            regularizer =  tf.math.reduce_sum(tf.square(weights[:-1])) / 2\n",
    "        with tf.name_scope(\"Calcular_Costo\"):\n",
    "            sigmoid_entropy = tf.nn.sigmoid_cross_entropy_with_logits(logits=logits,labels=train_labels)\n",
    "            loss = tf.reduce_mean(sigmoid_entropy + beta * regularizer)\n",
    "        with tf.name_scope(\"Calcular_Gradientes\"):\n",
    "            gradients = tf.gradients(loss ,weights)\n",
    "        with tf.name_scope(\"Actualizar_Pesos\"):\n",
    "            update_weights = tf.assign(weights,(tf.add(weights,tf.scalar_mul(-lr,gradients[0]))))\n",
    "\n",
    "        loss_summary = tf.summary.scalar(name='Loss_vs_Epochs', tensor=loss)\n",
    "\n",
    "        with tf.Session() as session:\n",
    "            curr_datetime = datetime.datetime.now().strftime('%Y%m%d_%H%M%S')\n",
    "            #writer = tf.summary.FileWriter(logs_dir+curr_datetime+\"_lr=\"+str(lr)+\"_epochs=\"+str(epochs),session.graph)\n",
    "            session.run(tf.global_variables_initializer())\n",
    "            x_mb = None\n",
    "            y_mb = None\n",
    "            for epoch in range(epochs):\n",
    "                for i in range(total_iterations):\n",
    "                    batch_start  = i*batch_size\n",
    "                    batch_end = batch_start + batch_size\n",
    "\n",
    "                    x_mb = np.array(x[batch_start:batch_end])\n",
    "                    y_mb = np.array(y[batch_start:batch_end])\n",
    "\n",
    "                    session.run(update_weights, feed_dict={x_train: x_mb, train_labels: y_mb})\n",
    "\n",
    "                if ((epoch+1) % print_interval) == 0:\n",
    "                    print(\"epoch:\"+str(epoch+1)+\" costo: \"+str(session.run(loss, feed_dict={x_train: x_mb, train_labels: y_mb})))\n",
    "\n",
    "                #writer.add_summary(session.run(loss_summary, feed_dict={x_train: x_mb, train_labels: y_mb}), epoch)\n",
    "\n",
    "\n",
    "            self.weights = session.run(weights)\n",
    "            #writer.close()\n",
    "        session.close()\n",
    "\n",
    "        return self.weights\n",
    "\n",
    "    def predict(self,x):\n",
    "        x = np.hstack((x,np.ones((x.shape[0],1))))\n",
    "        tf.reset_default_graph()\n",
    "        x_ph = tf.placeholder(tf.float32,[x.shape[0],None],\"Predicted_Image\")\n",
    "        with tf.Session() as session:\n",
    "            prediction = session.run(tf.cast(tf.nn.sigmoid(tf.matmul(x_ph,self.weights)) > 0.5, tf.int32),feed_dict={x_ph: x})\n",
    "        session.close()\n",
    "        return prediction.reshape(prediction.shape[0])"
   ]
  },
  {
   "cell_type": "markdown",
   "metadata": {},
   "source": [
    "### SVM y Decision Trees"
   ]
  },
  {
   "cell_type": "markdown",
   "metadata": {},
   "source": [
    "Para los clasificadores SVM y Decision Trees, se utilizarán librerías de skilearn, por lo que se procede a importar dichas librerías y posteriormente se creará una instancia para cada uno de los clasificadores. "
   ]
  },
  {
   "cell_type": "code",
   "execution_count": 13,
   "metadata": {},
   "outputs": [],
   "source": [
    "from sklearn import svm\n",
    "from sklearn.tree import DecisionTreeClassifier"
   ]
  },
  {
   "cell_type": "markdown",
   "metadata": {},
   "source": [
    "## Entrenamiento y validación de clasificadores\n",
    "Se procede a crear una instancia de cada uno de los clasificadores y se entrenan con los datos de pruebas a los cuales se les realizaron encoding."
   ]
  },
  {
   "cell_type": "code",
   "execution_count": 29,
   "metadata": {},
   "outputs": [],
   "source": [
    "#se agregan las columnas encodeadas a los datos de validación\n",
    "validation_data[\"sex_encoded\"] = validation_data[\"passenger_sex\"].map({'M': 0, 'F': 1}).astype(int)\n",
    "validation_data[\"class_encoded\"] = validation_data[\"passenger_class\"].map( {'Lower': 0, 'Middle': 1,'Upper':2}).astype(int)\n",
    "validation_data[\"survived_encoded\"] = validation_data[\"passenger_survived\"].map({'N': 0, 'Y': 1}).astype(int)\n",
    "validation_data[\"age_t\"] = validation_data[\"Age\"].fillna(validation_data[\"Age\"].mean()).astype(int)\n",
    "\n",
    "x_train = train_data[[\"sex_encoded\",\"class_encoded\"]].to_numpy()\n",
    "y_train = train_data[\"survived_encoded\"].to_numpy()\n",
    "\n",
    "x_validation = validation_data[[\"sex_encoded\",\"class_encoded\"]].to_numpy()\n",
    "y_validation = validation_data[\"survived_encoded\"].to_numpy()\n",
    "\n",
    "naive_bayes_clf = NaiveBayesClassifier(x_train,y_train)\n",
    "logistic_regression_clf = LogisticRegressionModel()\n",
    "svm_clf = svm.SVC(kernel='linear') \n",
    "decision_tree_clf = DecisionTreeClassifier(criterion='entropy')\n",
    "\n",
    "accurrancy = {}"
   ]
  },
  {
   "cell_type": "markdown",
   "metadata": {},
   "source": [
    "### Naive Bayes"
   ]
  },
  {
   "cell_type": "code",
   "execution_count": 23,
   "metadata": {
    "scrolled": true
   },
   "outputs": [
    {
     "name": "stdout",
     "output_type": "stream",
     "text": [
      "Naive Bayes Accuracy: 0.8041958041958042\n"
     ]
    }
   ],
   "source": [
    "y_pred_nb  = naive_bayes_clf.predict(x_validation)\n",
    "accurrancy['Naive Bayes'] = metrics.accuracy_score(y_validation, y_pred_nb)\n",
    "print(\"Naive Bayes Accuracy:\", accurrancy['Naive Bayes'])"
   ]
  },
  {
   "cell_type": "code",
   "execution_count": 24,
   "metadata": {},
   "outputs": [
    {
     "name": "stdout",
     "output_type": "stream",
     "text": [
      "Accuracy: 0.8041958041958042\n"
     ]
    }
   ],
   "source": [
    "svm_clf.fit(x_train,y_train)\n",
    "y_pred_svm  = svm_clf.predict(x_validation)\n",
    "accurrancy['SVM'] = metrics.accuracy_score(y_validation, y_pred_svm)\n",
    "print(\"Accuracy:\",accurrancy['SVM'])"
   ]
  },
  {
   "cell_type": "code",
   "execution_count": 25,
   "metadata": {},
   "outputs": [
    {
     "name": "stdout",
     "output_type": "stream",
     "text": [
      "Accuracy: 0.8041958041958042\n"
     ]
    }
   ],
   "source": [
    "decision_tree_clf.fit(x_train,y_train)\n",
    "y_pred_dt  = decision_tree_clf.predict(x_validation)\n",
    "accurrancy['Decission Trees'] = metrics.accuracy_score(y_validation, y_pred_dt)\n",
    "print(\"Accuracy:\",accurrancy['Decission Trees'] )"
   ]
  },
  {
   "cell_type": "code",
   "execution_count": 26,
   "metadata": {},
   "outputs": [
    {
     "name": "stdout",
     "output_type": "stream",
     "text": [
      "epoch:200 costo: 0.6375417\n",
      "epoch:400 costo: 0.60360456\n",
      "epoch:600 costo: 0.58124846\n",
      "epoch:800 costo: 0.5659263\n",
      "epoch:1000 costo: 0.5551665\n",
      "Accuracy: 0.7762237762237763\n"
     ]
    }
   ],
   "source": [
    "logistic_regression_clf.train(x=x_train,y=y_train,epochs=1000, lr=0.001, batch_size=32, beta=0.01, print_interval=200,  logs_dir=\"./fashion_mnist/\")\n",
    "y_pred_lr = logistic_regression_clf.predict(x_validation)\n",
    "accurrancy['Regresión Logistica']  = metrics.accuracy_score(y_validation, y_pred_lr)\n",
    "print(\"Accuracy:\",accurrancy['Regresión Logistica'])"
   ]
  },
  {
   "cell_type": "markdown",
   "metadata": {},
   "source": [
    "### Ensamble de calificadores"
   ]
  },
  {
   "cell_type": "code",
   "execution_count": 19,
   "metadata": {},
   "outputs": [],
   "source": [
    "def ensemble_classifier(predictions):\n",
    "    return stats.mode(predictions, axis=0)[0][0]"
   ]
  },
  {
   "cell_type": "code",
   "execution_count": 27,
   "metadata": {
    "scrolled": false
   },
   "outputs": [
    {
     "name": "stdout",
     "output_type": "stream",
     "text": [
      "Accuracy: 0.8041958041958042\n"
     ]
    }
   ],
   "source": [
    "predictions = np.array((y_pred_nb,y_pred_svm,y_pred_dt,y_pred_lr))\n",
    "y_pred_ensemble = ensemble_classifier(predictions)\n",
    "accurrancy['Ensamble'] = metrics.accuracy_score(y_validation, y_pred_ensemble)\n",
    "print(\"Accuracy:\",accurrancy['Ensamble'])"
   ]
  },
  {
   "cell_type": "code",
   "execution_count": 21,
   "metadata": {},
   "outputs": [
    {
     "data": {
      "text/html": [
       "<div>\n",
       "<style scoped>\n",
       "    .dataframe tbody tr th:only-of-type {\n",
       "        vertical-align: middle;\n",
       "    }\n",
       "\n",
       "    .dataframe tbody tr th {\n",
       "        vertical-align: top;\n",
       "    }\n",
       "\n",
       "    .dataframe thead th {\n",
       "        text-align: right;\n",
       "    }\n",
       "</style>\n",
       "<table border=\"1\" class=\"dataframe\">\n",
       "  <thead>\n",
       "    <tr style=\"text-align: right;\">\n",
       "      <th></th>\n",
       "      <th>Precisión</th>\n",
       "    </tr>\n",
       "  </thead>\n",
       "  <tbody>\n",
       "    <tr>\n",
       "      <th>Naive Bayes</th>\n",
       "      <td>0.790210</td>\n",
       "    </tr>\n",
       "    <tr>\n",
       "      <th>SVM</th>\n",
       "      <td>0.804196</td>\n",
       "    </tr>\n",
       "    <tr>\n",
       "      <th>Decission Trees</th>\n",
       "      <td>0.853147</td>\n",
       "    </tr>\n",
       "    <tr>\n",
       "      <th>Regresión Logistica</th>\n",
       "      <td>0.825175</td>\n",
       "    </tr>\n",
       "    <tr>\n",
       "      <th>Ensamble</th>\n",
       "      <td>0.839161</td>\n",
       "    </tr>\n",
       "  </tbody>\n",
       "</table>\n",
       "</div>"
      ],
      "text/plain": [
       "                     Precisión\n",
       "Naive Bayes           0.790210\n",
       "SVM                   0.804196\n",
       "Decission Trees       0.853147\n",
       "Regresión Logistica   0.825175\n",
       "Ensamble              0.839161"
      ]
     },
     "execution_count": 21,
     "metadata": {},
     "output_type": "execute_result"
    }
   ],
   "source": [
    "df_accuracy = pd.DataFrame(accurrancy, index={\"Precisión\"})\n",
    "\n",
    "df_accuracy.T"
   ]
  }
 ],
 "metadata": {
  "kernelspec": {
   "display_name": "Python 3",
   "language": "python",
   "name": "python3"
  },
  "language_info": {
   "codemirror_mode": {
    "name": "ipython",
    "version": 3
   },
   "file_extension": ".py",
   "mimetype": "text/x-python",
   "name": "python",
   "nbconvert_exporter": "python",
   "pygments_lexer": "ipython3",
   "version": "3.8.1"
  }
 },
 "nbformat": 4,
 "nbformat_minor": 4
}
