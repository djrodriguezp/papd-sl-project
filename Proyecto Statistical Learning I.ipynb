{
 "cells": [
  {
   "cell_type": "markdown",
   "metadata": {},
   "source": [
    "# Proyecto Statistical Learning I"
   ]
  },
  {
   "cell_type": "code",
   "execution_count": 323,
   "metadata": {},
   "outputs": [],
   "source": [
    "import pandas as pd\n",
    "import numpy as np\n",
    "import tensorflow as tf\n",
    "import datetime\n",
    "import matplotlib.pyplot as plt\n",
    "import seaborn as sns\n",
    "from collections import Counter\n",
    "from sklearn.model_selection import train_test_split\n",
    "from sklearn import metrics\n",
    "from sklearn import preprocessing\n",
    "\n",
    "\n",
    "#habilitamos compatibilidad para TensorFlow v1\n",
    "if tf.__version__.startswith(\"2.\"):\n",
    "  import tensorflow.compat.v1 as tf\n",
    "  tf.compat.v1.disable_v2_behavior()\n",
    "  tf.compat.v1.disable_eager_execution()"
   ]
  },
  {
   "cell_type": "code",
   "execution_count": 2,
   "metadata": {},
   "outputs": [
    {
     "data": {
      "text/html": [
       "<div>\n",
       "<style scoped>\n",
       "    .dataframe tbody tr th:only-of-type {\n",
       "        vertical-align: middle;\n",
       "    }\n",
       "\n",
       "    .dataframe tbody tr th {\n",
       "        vertical-align: top;\n",
       "    }\n",
       "\n",
       "    .dataframe thead th {\n",
       "        text-align: right;\n",
       "    }\n",
       "</style>\n",
       "<table border=\"1\" class=\"dataframe\">\n",
       "  <thead>\n",
       "    <tr style=\"text-align: right;\">\n",
       "      <th></th>\n",
       "      <th>PassengerId</th>\n",
       "      <th>Name</th>\n",
       "      <th>Age</th>\n",
       "      <th>SibSp</th>\n",
       "      <th>Parch</th>\n",
       "      <th>Ticket</th>\n",
       "      <th>Fare</th>\n",
       "      <th>Cabin</th>\n",
       "      <th>Embarked</th>\n",
       "      <th>passenger_class</th>\n",
       "      <th>passenger_sex</th>\n",
       "      <th>passenger_survived</th>\n",
       "    </tr>\n",
       "  </thead>\n",
       "  <tbody>\n",
       "    <tr>\n",
       "      <th>634</th>\n",
       "      <td>635</td>\n",
       "      <td>Skoog, Miss. Mabel</td>\n",
       "      <td>9.0</td>\n",
       "      <td>3</td>\n",
       "      <td>2</td>\n",
       "      <td>347088</td>\n",
       "      <td>27.9000</td>\n",
       "      <td>NaN</td>\n",
       "      <td>S</td>\n",
       "      <td>Lower</td>\n",
       "      <td>F</td>\n",
       "      <td>N</td>\n",
       "    </tr>\n",
       "    <tr>\n",
       "      <th>747</th>\n",
       "      <td>748</td>\n",
       "      <td>Sinkkonen, Miss. Anna</td>\n",
       "      <td>30.0</td>\n",
       "      <td>0</td>\n",
       "      <td>0</td>\n",
       "      <td>250648</td>\n",
       "      <td>13.0000</td>\n",
       "      <td>NaN</td>\n",
       "      <td>S</td>\n",
       "      <td>Middle</td>\n",
       "      <td>F</td>\n",
       "      <td>Y</td>\n",
       "    </tr>\n",
       "    <tr>\n",
       "      <th>48</th>\n",
       "      <td>49</td>\n",
       "      <td>Samaan, Mr. Youssef</td>\n",
       "      <td>NaN</td>\n",
       "      <td>2</td>\n",
       "      <td>0</td>\n",
       "      <td>2662</td>\n",
       "      <td>21.6792</td>\n",
       "      <td>NaN</td>\n",
       "      <td>C</td>\n",
       "      <td>Lower</td>\n",
       "      <td>M</td>\n",
       "      <td>N</td>\n",
       "    </tr>\n",
       "    <tr>\n",
       "      <th>838</th>\n",
       "      <td>839</td>\n",
       "      <td>Chip, Mr. Chang</td>\n",
       "      <td>32.0</td>\n",
       "      <td>0</td>\n",
       "      <td>0</td>\n",
       "      <td>1601</td>\n",
       "      <td>56.4958</td>\n",
       "      <td>NaN</td>\n",
       "      <td>S</td>\n",
       "      <td>Lower</td>\n",
       "      <td>M</td>\n",
       "      <td>Y</td>\n",
       "    </tr>\n",
       "    <tr>\n",
       "      <th>477</th>\n",
       "      <td>478</td>\n",
       "      <td>Braund, Mr. Lewis Richard</td>\n",
       "      <td>29.0</td>\n",
       "      <td>1</td>\n",
       "      <td>0</td>\n",
       "      <td>3460</td>\n",
       "      <td>7.0458</td>\n",
       "      <td>NaN</td>\n",
       "      <td>S</td>\n",
       "      <td>Lower</td>\n",
       "      <td>M</td>\n",
       "      <td>N</td>\n",
       "    </tr>\n",
       "    <tr>\n",
       "      <th>...</th>\n",
       "      <td>...</td>\n",
       "      <td>...</td>\n",
       "      <td>...</td>\n",
       "      <td>...</td>\n",
       "      <td>...</td>\n",
       "      <td>...</td>\n",
       "      <td>...</td>\n",
       "      <td>...</td>\n",
       "      <td>...</td>\n",
       "      <td>...</td>\n",
       "      <td>...</td>\n",
       "      <td>...</td>\n",
       "    </tr>\n",
       "    <tr>\n",
       "      <th>219</th>\n",
       "      <td>220</td>\n",
       "      <td>Harris, Mr. Walter</td>\n",
       "      <td>30.0</td>\n",
       "      <td>0</td>\n",
       "      <td>0</td>\n",
       "      <td>W/C 14208</td>\n",
       "      <td>10.5000</td>\n",
       "      <td>NaN</td>\n",
       "      <td>S</td>\n",
       "      <td>Middle</td>\n",
       "      <td>M</td>\n",
       "      <td>N</td>\n",
       "    </tr>\n",
       "    <tr>\n",
       "      <th>450</th>\n",
       "      <td>451</td>\n",
       "      <td>West, Mr. Edwy Arthur</td>\n",
       "      <td>36.0</td>\n",
       "      <td>1</td>\n",
       "      <td>2</td>\n",
       "      <td>C.A. 34651</td>\n",
       "      <td>27.7500</td>\n",
       "      <td>NaN</td>\n",
       "      <td>S</td>\n",
       "      <td>Middle</td>\n",
       "      <td>M</td>\n",
       "      <td>N</td>\n",
       "    </tr>\n",
       "    <tr>\n",
       "      <th>137</th>\n",
       "      <td>138</td>\n",
       "      <td>Futrelle, Mr. Jacques Heath</td>\n",
       "      <td>37.0</td>\n",
       "      <td>1</td>\n",
       "      <td>0</td>\n",
       "      <td>113803</td>\n",
       "      <td>53.1000</td>\n",
       "      <td>C123</td>\n",
       "      <td>S</td>\n",
       "      <td>Upper</td>\n",
       "      <td>M</td>\n",
       "      <td>N</td>\n",
       "    </tr>\n",
       "    <tr>\n",
       "      <th>671</th>\n",
       "      <td>672</td>\n",
       "      <td>Davidson, Mr. Thornton</td>\n",
       "      <td>31.0</td>\n",
       "      <td>1</td>\n",
       "      <td>0</td>\n",
       "      <td>F.C. 12750</td>\n",
       "      <td>52.0000</td>\n",
       "      <td>B71</td>\n",
       "      <td>S</td>\n",
       "      <td>Upper</td>\n",
       "      <td>M</td>\n",
       "      <td>N</td>\n",
       "    </tr>\n",
       "    <tr>\n",
       "      <th>573</th>\n",
       "      <td>574</td>\n",
       "      <td>Kelly, Miss. Mary</td>\n",
       "      <td>NaN</td>\n",
       "      <td>0</td>\n",
       "      <td>0</td>\n",
       "      <td>14312</td>\n",
       "      <td>7.7500</td>\n",
       "      <td>NaN</td>\n",
       "      <td>Q</td>\n",
       "      <td>Lower</td>\n",
       "      <td>F</td>\n",
       "      <td>Y</td>\n",
       "    </tr>\n",
       "  </tbody>\n",
       "</table>\n",
       "<p>569 rows × 12 columns</p>\n",
       "</div>"
      ],
      "text/plain": [
       "     PassengerId                         Name   Age  SibSp  Parch      Ticket  \\\n",
       "634          635           Skoog, Miss. Mabel   9.0      3      2      347088   \n",
       "747          748        Sinkkonen, Miss. Anna  30.0      0      0      250648   \n",
       "48            49          Samaan, Mr. Youssef   NaN      2      0        2662   \n",
       "838          839              Chip, Mr. Chang  32.0      0      0        1601   \n",
       "477          478    Braund, Mr. Lewis Richard  29.0      1      0        3460   \n",
       "..           ...                          ...   ...    ...    ...         ...   \n",
       "219          220           Harris, Mr. Walter  30.0      0      0   W/C 14208   \n",
       "450          451        West, Mr. Edwy Arthur  36.0      1      2  C.A. 34651   \n",
       "137          138  Futrelle, Mr. Jacques Heath  37.0      1      0      113803   \n",
       "671          672       Davidson, Mr. Thornton  31.0      1      0  F.C. 12750   \n",
       "573          574            Kelly, Miss. Mary   NaN      0      0       14312   \n",
       "\n",
       "        Fare Cabin Embarked passenger_class passenger_sex passenger_survived  \n",
       "634  27.9000   NaN        S           Lower             F                  N  \n",
       "747  13.0000   NaN        S          Middle             F                  Y  \n",
       "48   21.6792   NaN        C           Lower             M                  N  \n",
       "838  56.4958   NaN        S           Lower             M                  Y  \n",
       "477   7.0458   NaN        S           Lower             M                  N  \n",
       "..       ...   ...      ...             ...           ...                ...  \n",
       "219  10.5000   NaN        S          Middle             M                  N  \n",
       "450  27.7500   NaN        S          Middle             M                  N  \n",
       "137  53.1000  C123        S           Upper             M                  N  \n",
       "671  52.0000   B71        S           Upper             M                  N  \n",
       "573   7.7500   NaN        Q           Lower             F                  Y  \n",
       "\n",
       "[569 rows x 12 columns]"
      ]
     },
     "execution_count": 2,
     "metadata": {},
     "output_type": "execute_result"
    }
   ],
   "source": [
    "titanic_dataset = pd.read_csv('data_titanic_proyecto.csv')\n",
    "\n",
    "train_data, test_data = train_test_split(titanic_dataset, test_size=0.2)\n",
    "train_data, validation_data = train_test_split(train_data, test_size=0.2)\n",
    "\n",
    "train_data"
   ]
  },
  {
   "cell_type": "markdown",
   "metadata": {},
   "source": [
    "### Análisis exploratorio de datos"
   ]
  },
  {
   "cell_type": "code",
   "execution_count": 4,
   "metadata": {
    "scrolled": true
   },
   "outputs": [
    {
     "data": {
      "text/plain": [
       "PassengerId             0\n",
       "Name                    0\n",
       "Age                   110\n",
       "SibSp                   0\n",
       "Parch                   0\n",
       "Ticket                  0\n",
       "Fare                    0\n",
       "Cabin                 444\n",
       "Embarked                2\n",
       "passenger_class         0\n",
       "passenger_sex           0\n",
       "passenger_survived      0\n",
       "dtype: int64"
      ]
     },
     "execution_count": 4,
     "metadata": {},
     "output_type": "execute_result"
    }
   ],
   "source": [
    "train_data.isna().sum()"
   ]
  },
  {
   "cell_type": "code",
   "execution_count": 5,
   "metadata": {
    "scrolled": false
   },
   "outputs": [
    {
     "name": "stdout",
     "output_type": "stream",
     "text": [
      "PassengerId : 569\n",
      "Name : 569\n",
      "Age : 83\n",
      "SibSp : 7\n",
      "Parch : 7\n",
      "Ticket : 470\n",
      "Fare : 204\n",
      "Embarked : 3\n",
      "passenger_class : 3\n",
      "passenger_sex : 2\n",
      "passenger_survived : 2\n"
     ]
    }
   ],
   "source": [
    "for column in train_data.drop(['Cabin'],axis=1):\n",
    "    print(column+\" : \"+str(train_data[column].dropna().unique().shape[0]))"
   ]
  },
  {
   "cell_type": "code",
   "execution_count": 6,
   "metadata": {},
   "outputs": [
    {
     "data": {
      "image/png": "[encoded data removed]",
      "text/plain": [
       "<Figure size 1080x1080 with 5 Axes>"
      ]
     },
     "metadata": {
      "needs_background": "light"
     },
     "output_type": "display_data"
    }
   ],
   "source": [
    "f,axes = plt.subplots(3,2,sharex=False, figsize=(15,15))\n",
    "i_vars = [\"passenger_sex\",\"passenger_class\",\"Embarked\",\"SibSp\",\"Parch\"]\n",
    "\n",
    "for i in range(len(i_vars)):\n",
    "    ivar = i_vars[i]\n",
    "    labels = sorted(train_data[ivar].dropna().unique())\n",
    "    survivors = []\n",
    "    deaths = []\n",
    "    for label in labels:\n",
    "        survivors.append(train_data[(train_data[ivar] == label) & (train_data[\"passenger_survived\"] == \"Y\")][ivar].count())\n",
    "        deaths.append(train_data[(train_data[ivar] == label) & (train_data[\"passenger_survived\"] == \"N\")][ivar].count())\n",
    "        \n",
    "    width = 0.20\n",
    "    x_plt = np.arange(len(labels))\n",
    "    \n",
    "    ax = axes[i//2,i%2]\n",
    "    rects1 = ax.bar(x_plt, survivors, width, label='Sobrevivieron')\n",
    "    rects2 = ax.bar(x_plt + width, deaths, width, label='Murieron',color=\"red\")\n",
    "\n",
    "    ax.set_ylabel('Cantidad')\n",
    "    ax.set_title('Relación '+ivar+' y passenger_survived', fontsize=15)\n",
    "    ax.set_xticks(x_plt+width/2)\n",
    "    ax.set_xticklabels(labels)\n",
    "    ax.legend()\n",
    "    \n",
    "f.delaxes(axes[2,1])\n",
    "plt.show()"
   ]
  },
  {
   "cell_type": "code",
   "execution_count": 7,
   "metadata": {
    "scrolled": true
   },
   "outputs": [
    {
     "data": {
      "image/png": "[encoded data removed]",
      "text/plain": [
       "<Figure size 576x360 with 1 Axes>"
      ]
     },
     "metadata": {},
     "output_type": "display_data"
    }
   ],
   "source": [
    "sns.set();\n",
    "plt.figure(figsize=(8,5))\n",
    "sns.distplot(train_data[\"Age\"].dropna(), kde=False, label=\"Pasajeros\")\n",
    "sns.distplot(train_data[(train_data[\"passenger_survived\"] == \"N\")][\"Age\"].dropna(),color=\"r\", kde =False, label=\"Murieron\")\n",
    "sns.distplot(train_data[(train_data[\"passenger_survived\"] == \"Y\")][\"Age\"].dropna(), color=\"green\", kde =False, label=\"Sobrevivieron\")\n",
    "plt.title(\"Edad Pasajeros\",fontsize=15)\n",
    "plt.legend()\n",
    "plt.show()"
   ]
  },
  {
   "cell_type": "code",
   "execution_count": 8,
   "metadata": {
    "scrolled": false
   },
   "outputs": [
    {
     "data": {
      "image/png": "[encoded data removed]",
      "text/plain": [
       "<Figure size 1080x360 with 2 Axes>"
      ]
     },
     "metadata": {},
     "output_type": "display_data"
    }
   ],
   "source": [
    "sns.set();\n",
    "\n",
    "f,axes = plt.subplots(1,2,sharex=False, figsize=(15,5))\n",
    "\n",
    "sns.distplot(train_data[(train_data[\"passenger_sex\"] == \"F\") & (train_data[\"passenger_survived\"] == \"Y\")][\"Age\"].dropna(), color=\"green\", kde=False, ax=axes[0],label=\"Sobrevivieron\")\n",
    "sns.distplot(train_data[(train_data[\"passenger_sex\"] == \"F\") & (train_data[\"passenger_survived\"] == \"N\")][\"Age\"].dropna(), color=\"red\", kde=False, ax=axes[0],label=\"Murieron\")\n",
    "sns.distplot(train_data[(train_data[\"passenger_sex\"] == \"M\") & (train_data[\"passenger_survived\"] == \"Y\")][\"Age\"].dropna(), color=\"green\", kde=False,ax=axes[1], label=\"Sobrevivieron\")\n",
    "sns.distplot(train_data[(train_data[\"passenger_sex\"] == \"M\") & (train_data[\"passenger_survived\"] == \"N\")][\"Age\"].dropna(), color=\"red\", kde=False, ax=axes[1],label=\"Murieron\")\n",
    "axes[0].legend()\n",
    "axes[0].set_title(\"Mujeres\",fontsize=15)\n",
    "axes[1].legend()\n",
    "axes[1].set_title(\"Hombres\",fontsize=15)\n",
    "plt.show()"
   ]
  },
  {
   "cell_type": "code",
   "execution_count": 412,
   "metadata": {},
   "outputs": [],
   "source": [
    "def scale_var(var):\n",
    "    return ((var-np.amin(var,axis=0))/(np.amax(var,axis=0)-np.amin(var,axis=0)))"
   ]
  },
  {
   "cell_type": "markdown",
   "metadata": {},
   "source": [
    "### Selección de variables y feature engineering\n",
    "Según el análisis realizado se seleccionó como variables independientes **passenger_sex** y **passenger_class** por lo que se procederá a realizar un mapeo númerico de categorías a estas variables y a la variable **passenger_survived** la cuál contiene la clasificación de sobrevivencia.\n",
    "\n",
    "Estás variables codificadas se agregarán como una nueva columna en el dataset de pruebas."
   ]
  },
  {
   "cell_type": "code",
   "execution_count": 478,
   "metadata": {},
   "outputs": [
    {
     "data": {
      "text/html": [
       "<div>\n",
       "<style scoped>\n",
       "    .dataframe tbody tr th:only-of-type {\n",
       "        vertical-align: middle;\n",
       "    }\n",
       "\n",
       "    .dataframe tbody tr th {\n",
       "        vertical-align: top;\n",
       "    }\n",
       "\n",
       "    .dataframe thead th {\n",
       "        text-align: right;\n",
       "    }\n",
       "</style>\n",
       "<table border=\"1\" class=\"dataframe\">\n",
       "  <thead>\n",
       "    <tr style=\"text-align: right;\">\n",
       "      <th></th>\n",
       "      <th>PassengerId</th>\n",
       "      <th>Name</th>\n",
       "      <th>Age</th>\n",
       "      <th>SibSp</th>\n",
       "      <th>Parch</th>\n",
       "      <th>Ticket</th>\n",
       "      <th>Fare</th>\n",
       "      <th>Cabin</th>\n",
       "      <th>Embarked</th>\n",
       "      <th>passenger_class</th>\n",
       "      <th>...</th>\n",
       "      <th>passenger_survived</th>\n",
       "      <th>sex_encoded</th>\n",
       "      <th>class_encoded</th>\n",
       "      <th>survived_encoded</th>\n",
       "      <th>age_t</th>\n",
       "      <th>age_norm</th>\n",
       "      <th>embarked_t</th>\n",
       "      <th>embarked_encoded</th>\n",
       "      <th>sibp_t</th>\n",
       "      <th>parch_t</th>\n",
       "    </tr>\n",
       "  </thead>\n",
       "  <tbody>\n",
       "    <tr>\n",
       "      <th>634</th>\n",
       "      <td>635</td>\n",
       "      <td>Skoog, Miss. Mabel</td>\n",
       "      <td>9.0</td>\n",
       "      <td>3</td>\n",
       "      <td>2</td>\n",
       "      <td>347088</td>\n",
       "      <td>27.9000</td>\n",
       "      <td>NaN</td>\n",
       "      <td>S</td>\n",
       "      <td>Lower</td>\n",
       "      <td>...</td>\n",
       "      <td>N</td>\n",
       "      <td>1</td>\n",
       "      <td>0</td>\n",
       "      <td>0</td>\n",
       "      <td>9</td>\n",
       "      <td>0.1125</td>\n",
       "      <td>S</td>\n",
       "      <td>2</td>\n",
       "      <td>3</td>\n",
       "      <td>2</td>\n",
       "    </tr>\n",
       "    <tr>\n",
       "      <th>747</th>\n",
       "      <td>748</td>\n",
       "      <td>Sinkkonen, Miss. Anna</td>\n",
       "      <td>30.0</td>\n",
       "      <td>0</td>\n",
       "      <td>0</td>\n",
       "      <td>250648</td>\n",
       "      <td>13.0000</td>\n",
       "      <td>NaN</td>\n",
       "      <td>S</td>\n",
       "      <td>Middle</td>\n",
       "      <td>...</td>\n",
       "      <td>Y</td>\n",
       "      <td>1</td>\n",
       "      <td>1</td>\n",
       "      <td>1</td>\n",
       "      <td>30</td>\n",
       "      <td>0.3750</td>\n",
       "      <td>S</td>\n",
       "      <td>2</td>\n",
       "      <td>0</td>\n",
       "      <td>0</td>\n",
       "    </tr>\n",
       "    <tr>\n",
       "      <th>48</th>\n",
       "      <td>49</td>\n",
       "      <td>Samaan, Mr. Youssef</td>\n",
       "      <td>NaN</td>\n",
       "      <td>2</td>\n",
       "      <td>0</td>\n",
       "      <td>2662</td>\n",
       "      <td>21.6792</td>\n",
       "      <td>NaN</td>\n",
       "      <td>C</td>\n",
       "      <td>Lower</td>\n",
       "      <td>...</td>\n",
       "      <td>N</td>\n",
       "      <td>0</td>\n",
       "      <td>0</td>\n",
       "      <td>0</td>\n",
       "      <td>29</td>\n",
       "      <td>0.3625</td>\n",
       "      <td>C</td>\n",
       "      <td>0</td>\n",
       "      <td>2</td>\n",
       "      <td>0</td>\n",
       "    </tr>\n",
       "    <tr>\n",
       "      <th>838</th>\n",
       "      <td>839</td>\n",
       "      <td>Chip, Mr. Chang</td>\n",
       "      <td>32.0</td>\n",
       "      <td>0</td>\n",
       "      <td>0</td>\n",
       "      <td>1601</td>\n",
       "      <td>56.4958</td>\n",
       "      <td>NaN</td>\n",
       "      <td>S</td>\n",
       "      <td>Lower</td>\n",
       "      <td>...</td>\n",
       "      <td>Y</td>\n",
       "      <td>0</td>\n",
       "      <td>0</td>\n",
       "      <td>1</td>\n",
       "      <td>32</td>\n",
       "      <td>0.4000</td>\n",
       "      <td>S</td>\n",
       "      <td>2</td>\n",
       "      <td>0</td>\n",
       "      <td>0</td>\n",
       "    </tr>\n",
       "    <tr>\n",
       "      <th>477</th>\n",
       "      <td>478</td>\n",
       "      <td>Braund, Mr. Lewis Richard</td>\n",
       "      <td>29.0</td>\n",
       "      <td>1</td>\n",
       "      <td>0</td>\n",
       "      <td>3460</td>\n",
       "      <td>7.0458</td>\n",
       "      <td>NaN</td>\n",
       "      <td>S</td>\n",
       "      <td>Lower</td>\n",
       "      <td>...</td>\n",
       "      <td>N</td>\n",
       "      <td>0</td>\n",
       "      <td>0</td>\n",
       "      <td>0</td>\n",
       "      <td>29</td>\n",
       "      <td>0.3625</td>\n",
       "      <td>S</td>\n",
       "      <td>2</td>\n",
       "      <td>1</td>\n",
       "      <td>0</td>\n",
       "    </tr>\n",
       "  </tbody>\n",
       "</table>\n",
       "<p>5 rows × 21 columns</p>\n",
       "</div>"
      ],
      "text/plain": [
       "     PassengerId                       Name   Age  SibSp  Parch  Ticket  \\\n",
       "634          635         Skoog, Miss. Mabel   9.0      3      2  347088   \n",
       "747          748      Sinkkonen, Miss. Anna  30.0      0      0  250648   \n",
       "48            49        Samaan, Mr. Youssef   NaN      2      0    2662   \n",
       "838          839            Chip, Mr. Chang  32.0      0      0    1601   \n",
       "477          478  Braund, Mr. Lewis Richard  29.0      1      0    3460   \n",
       "\n",
       "        Fare Cabin Embarked passenger_class  ... passenger_survived  \\\n",
       "634  27.9000   NaN        S           Lower  ...                  N   \n",
       "747  13.0000   NaN        S          Middle  ...                  Y   \n",
       "48   21.6792   NaN        C           Lower  ...                  N   \n",
       "838  56.4958   NaN        S           Lower  ...                  Y   \n",
       "477   7.0458   NaN        S           Lower  ...                  N   \n",
       "\n",
       "    sex_encoded  class_encoded  survived_encoded  age_t  age_norm  embarked_t  \\\n",
       "634           1              0                 0      9    0.1125           S   \n",
       "747           1              1                 1     30    0.3750           S   \n",
       "48            0              0                 0     29    0.3625           C   \n",
       "838           0              0                 1     32    0.4000           S   \n",
       "477           0              0                 0     29    0.3625           S   \n",
       "\n",
       "    embarked_encoded  sibp_t  parch_t  \n",
       "634                2       3        2  \n",
       "747                2       0        0  \n",
       "48                 0       2        0  \n",
       "838                2       0        0  \n",
       "477                2       1        0  \n",
       "\n",
       "[5 rows x 21 columns]"
      ]
     },
     "execution_count": 478,
     "metadata": {},
     "output_type": "execute_result"
    }
   ],
   "source": [
    "train_data[\"sex_encoded\"] = train_data[\"passenger_sex\"].map({'M': 0, 'F': 1}).astype(int)\n",
    "train_data[\"class_encoded\"] = train_data[\"passenger_class\"].map( {'Lower': 0, 'Middle': 1,'Upper':2}).astype(int)\n",
    "train_data[\"survived_encoded\"] = train_data[\"passenger_survived\"].map({'N': 0, 'Y': 1}).astype(int)\n",
    "train_data[\"age_t\"] = train_data[\"Age\"].fillna(train_data[\"Age\"].mean()).astype(int)\n",
    "train_data[\"sibp_t\"] = train_data[\"SibSp\"].fillna(train_data[\"SibSp\"].mean()).astype(int)\n",
    "train_data[\"parch_t\"] = train_data[\"Parch\"].fillna(train_data[\"Parch\"].mean()).astype(int)\n",
    "train_data[\"embarked_t\"] = train_data[\"Embarked\"].fillna(train_data[\"Embarked\"].mode())\n",
    "train_data[\"embarked_encoded\"] = train_data[\"embarked_t\"].map( {'C': 0, 'Q': 1,'S':2}).astype(int)\n",
    "\n",
    "train_data.head(5)\n"
   ]
  },
  {
   "cell_type": "code",
   "execution_count": 333,
   "metadata": {},
   "outputs": [
    {
     "data": {
      "text/html": [
       "<div>\n",
       "<style scoped>\n",
       "    .dataframe tbody tr th:only-of-type {\n",
       "        vertical-align: middle;\n",
       "    }\n",
       "\n",
       "    .dataframe tbody tr th {\n",
       "        vertical-align: top;\n",
       "    }\n",
       "\n",
       "    .dataframe thead th {\n",
       "        text-align: right;\n",
       "    }\n",
       "</style>\n",
       "<table border=\"1\" class=\"dataframe\">\n",
       "  <thead>\n",
       "    <tr style=\"text-align: right;\">\n",
       "      <th></th>\n",
       "      <th>PassengerId</th>\n",
       "      <th>Age</th>\n",
       "      <th>SibSp</th>\n",
       "      <th>Parch</th>\n",
       "      <th>Fare</th>\n",
       "      <th>sex_encoded</th>\n",
       "      <th>class_encoded</th>\n",
       "      <th>survived_encoded</th>\n",
       "    </tr>\n",
       "  </thead>\n",
       "  <tbody>\n",
       "    <tr>\n",
       "      <th>0</th>\n",
       "      <td>0.001876</td>\n",
       "      <td>-0.098221</td>\n",
       "      <td>-0.03711</td>\n",
       "      <td>0.09305</td>\n",
       "      <td>0.253252</td>\n",
       "      <td>0.553707</td>\n",
       "      <td>0.335795</td>\n",
       "      <td>1.0</td>\n",
       "    </tr>\n",
       "  </tbody>\n",
       "</table>\n",
       "</div>"
      ],
      "text/plain": [
       "   PassengerId       Age    SibSp    Parch      Fare  sex_encoded  \\\n",
       "0     0.001876 -0.098221 -0.03711  0.09305  0.253252     0.553707   \n",
       "\n",
       "   class_encoded  survived_encoded  \n",
       "0       0.335795               1.0  "
      ]
     },
     "execution_count": 333,
     "metadata": {},
     "output_type": "execute_result"
    },
    {
     "data": {
      "image/png": "[encoded data removed]",
      "text/plain": [
       "<Figure size 864x432 with 2 Axes>"
      ]
     },
     "metadata": {
      "needs_background": "light"
     },
     "output_type": "display_data"
    }
   ],
   "source": [
    "corr = train_data.corrwith(train_data[\"survived_encoded\"])\n",
    "\n",
    "plt.figure(figsize=(12,6))\n",
    "sns.heatmap(train_data.corr(), cmap=\"Blues\", annot=True)\n",
    "\n",
    "corr.to_frame().T"
   ]
  },
  {
   "cell_type": "markdown",
   "metadata": {},
   "source": [
    "Como se puede validar en el mapa de calor, sexo y clase son las variables que representan una correlación más alta entre las demás variables, por lo que se seleccionaran dichas variables para realizar entrenar los modelos de predicción."
   ]
  },
  {
   "cell_type": "markdown",
   "metadata": {},
   "source": [
    "## Modelos de Clasificación"
   ]
  },
  {
   "cell_type": "markdown",
   "metadata": {},
   "source": [
    "### Definición de Clasificador Naive Bayes\n",
    "\n",
    "Se define la clase **NaiveBayesClassifier** para poder realizar predicciones por medio de un clasificador binario Naive Bayes. Este recibe como entrada en su constructor un arreglo con variables independientes y la variable a predecir (clases).\n",
    "\n",
    "El método **predict** recibe como entrada un arreglo con las variables independientes y retorna como resultado un arreglo con las predicciones realizadas."
   ]
  },
  {
   "cell_type": "code",
   "execution_count": 382,
   "metadata": {},
   "outputs": [],
   "source": [
    "class NaiveBayesClassifier:\n",
    "    def __init__(self,x,y):\n",
    "        self.x = x\n",
    "        self.y = y\n",
    "        self.df = pd.DataFrame(np.hstack((x,y.reshape(-1,1))))\n",
    "        self.df.columns = [*self.df.columns[:-1], 'Y']\n",
    "        self.means = self.df.groupby('Y').mean()\n",
    "        self.stds = self.df.groupby('Y').std()\n",
    "    \n",
    "    def predict(self,x):\n",
    "        predictions = np.zeros((len(self.df['Y'].unique()),x.shape[0]))\n",
    "        for c in self.df['Y'].unique():\n",
    "            mean = self.means.loc[c].to_numpy()\n",
    "            std = self.stds.loc[c].to_numpy() \n",
    "            vars_prob = (1 / (np.sqrt(2 * np.pi) * std)) * np.exp(-((x-mean)**2 / (2 * std**2 )))\n",
    "            probablilites = class_prob[c]*np.product(vars_prob,axis=1)\n",
    "            predictions[c] = probablilites\n",
    "\n",
    "        return np.argmax(predictions.T,axis=1)"
   ]
  },
  {
   "cell_type": "markdown",
   "metadata": {},
   "source": [
    "### Definición de Modelo de Regresión Logistica"
   ]
  },
  {
   "cell_type": "markdown",
   "metadata": {},
   "source": [
    "Se implementa la clase **LogisticRegressionModel** la cual cuenta con 2 métodos, el método **train** el cuál recibe como entrada las variables independientes, las clasificaciones y los hiperpárametros como epochs, learning rate, batch_size, etc.\n",
    "\n",
    "Una vez entrenado el modelo, los pesos calculados durante este proceso son almacenados en el campo **weights** y son utilizados por el método **predict** para realizar clasificaciones sobre el parametro brindado a este método."
   ]
  },
  {
   "cell_type": "code",
   "execution_count": null,
   "metadata": {},
   "outputs": [],
   "source": [
    "class LogisticRegressionModel:\n",
    "    def __init__(self):\n",
    "        self.weights = None\n",
    "        \n",
    "    def train(self,x, y , epochs, lr, batch_size, beta, print_interval,logs_dir):\n",
    "        x = np.hstack((x,np.ones((x.shape[0],1))))\n",
    "        y = y.reshape(-1,1)\n",
    "        tf.reset_default_graph()\n",
    "\n",
    "        total_iterations = int(x.shape[0]/batch_size)\n",
    "\n",
    "        with tf.name_scope(\"Pesos\"):\n",
    "            x_train = tf.placeholder(tf.float32,[batch_size,x.shape[1]],\"X\")\n",
    "            train_labels = tf.placeholder(tf.float32,[batch_size,y.shape[1]],\"Train_Labels\")\n",
    "            weights = tf.Variable(name=\"Weights\", initial_value=tf.zeros(([x.shape[1],y.shape[1]]),dtype=tf.float32))\n",
    "        with tf.name_scope(\"Calcular_Logits\"):\n",
    "            logits = tf.matmul(x_train,weights)\n",
    "        with tf.name_scope(\"Regularizacion\"):\n",
    "            regularizer =  tf.math.reduce_sum(tf.square(weights[:-1])) / 2\n",
    "        with tf.name_scope(\"Calcular_Costo\"):\n",
    "            sigmoid_entropy = tf.nn.sigmoid_cross_entropy_with_logits(logits=logits,labels=train_labels)\n",
    "            loss = tf.reduce_mean(sigmoid_entropy + beta * regularizer)\n",
    "        with tf.name_scope(\"Calcular_Gradientes\"):\n",
    "            gradients = tf.gradients(loss ,weights)\n",
    "        with tf.name_scope(\"Actualizar_Pesos\"):\n",
    "            update_weights = tf.assign(weights,(tf.add(weights,tf.scalar_mul(-lr,gradients[0]))))\n",
    "\n",
    "        loss_summary = tf.summary.scalar(name='Loss_vs_Epochs', tensor=loss)\n",
    "\n",
    "        with tf.Session() as session:\n",
    "            curr_datetime = datetime.datetime.now().strftime('%Y%m%d_%H%M%S')\n",
    "            #writer = tf.summary.FileWriter(logs_dir+curr_datetime+\"_lr=\"+str(lr)+\"_epochs=\"+str(epochs),session.graph)\n",
    "            session.run(tf.global_variables_initializer())\n",
    "            x_mb = None\n",
    "            y_mb = None\n",
    "            for epoch in range(epochs):\n",
    "                for i in range(total_iterations):\n",
    "                    batch_start  = i*batch_size\n",
    "                    batch_end = batch_start + batch_size\n",
    "\n",
    "                    x_mb = np.array(x[batch_start:batch_end])\n",
    "                    y_mb = np.array(y[batch_start:batch_end])\n",
    "\n",
    "                    session.run(update_weights, feed_dict={x_train: x_mb, train_labels: y_mb})\n",
    "\n",
    "                if ((epoch+1) % print_interval) == 0:\n",
    "                    print(\"epoch:\"+str(epoch+1)+\" costo: \"+str(session.run(loss, feed_dict={x_train: x_mb, train_labels: y_mb})))\n",
    "\n",
    "                #writer.add_summary(session.run(loss_summary, feed_dict={x_train: x_mb, train_labels: y_mb}), epoch)\n",
    "\n",
    "\n",
    "            self.weights = session.run(weights)\n",
    "            #writer.close()\n",
    "        session.close()\n",
    "\n",
    "        return self.weights\n",
    "\n",
    "    def predict(self,x):\n",
    "        x = np.hstack((x,np.ones((x.shape[0],1))))\n",
    "        tf.reset_default_graph()\n",
    "        x_ph = tf.placeholder(tf.float32,[x.shape[0],None],\"Predicted_Image\")\n",
    "        with tf.Session() as session:\n",
    "            prediction = session.run(tf.cast(tf.nn.sigmoid(tf.matmul(x_ph,self.weights)) > 0.5, tf.int32),feed_dict={x_ph: x})\n",
    "        session.close()\n",
    "        return prediction.reshape(1,-1)"
   ]
  },
  {
   "cell_type": "markdown",
   "metadata": {},
   "source": [
    "### SVM y Decision Trees"
   ]
  },
  {
   "cell_type": "markdown",
   "metadata": {},
   "source": [
    "Para los clasificadores SVM y Decision Trees, se utilizarán librerías de skilearn, por lo que se procede a importar dichas librerías y posteriormente se creará una instancia para cada uno de los clasificadores. "
   ]
  },
  {
   "cell_type": "code",
   "execution_count": 336,
   "metadata": {},
   "outputs": [],
   "source": [
    "from sklearn import svm\n",
    "from sklearn.tree import DecisionTreeClassifier"
   ]
  },
  {
   "cell_type": "markdown",
   "metadata": {},
   "source": [
    "## Entrenamiento y validación de clasificadores\n",
    "Se procede a crear una instancia de cada uno de los clasificadores y se entrenan con los datos de pruebas a los cuales se les realizaron encoding."
   ]
  },
  {
   "cell_type": "code",
   "execution_count": 489,
   "metadata": {},
   "outputs": [],
   "source": [
    "#se agregan las columnas encodeadas a los datos de validación\n",
    "validation_data[\"sex_encoded\"] = validation_data[\"passenger_sex\"].map({'M': 0, 'F': 1}).astype(int)\n",
    "validation_data[\"class_encoded\"] = validation_data[\"passenger_class\"].map( {'Lower': 0, 'Middle': 1,'Upper':2}).astype(int)\n",
    "validation_data[\"survived_encoded\"] = validation_data[\"passenger_survived\"].map({'N': 0, 'Y': 1}).astype(int)\n",
    "validation_data[\"age_t\"] = validation_data[\"Age\"].fillna(validation_data[\"Age\"].mean()).astype(int)\n",
    "validation_data[\"sibp_t\"] = validation_data[\"SibSp\"].fillna(validation_data[\"SibSp\"].mean()).astype(int)\n",
    "validation_data[\"parch_t\"] = validation_data[\"Parch\"].fillna(validation_data[\"Parch\"].mean()).astype(int)\n",
    "validation_data[\"embarked_t\"] = validation_data[\"Embarked\"].fillna('S')\n",
    "validation_data[\"embarked_encoded\"] = validation_data[\"embarked_t\"].map( {'C': 0, 'Q': 1,'S':2}).astype(int)\n",
    "\n",
    "x_train = train_data[[\"sex_encoded\",\"age_t\",\"class_encoded\"]].to_numpy()\n",
    "y_train = train_data[\"survived_encoded\"].to_numpy()\n",
    "\n",
    "x_validation = validation_data[[\"sex_encoded\",\"age_t\",\"class_encoded\"]].to_numpy()\n",
    "y_validation = validation_data[\"survived_encoded\"].to_numpy()\n",
    "\n",
    "naive_bayes_clf = NaiveBayesClassifier(x_train,y_train)\n",
    "logistic_regression_clf = LogisticRegressionModel()\n",
    "svm_clf = svm.SVC(kernel='linear') \n",
    "decision_tree_clf = DecisionTreeClassifier(criterion='entropy')\n"
   ]
  },
  {
   "cell_type": "markdown",
   "metadata": {},
   "source": [
    "### Naive Bayes"
   ]
  },
  {
   "cell_type": "code",
   "execution_count": 490,
   "metadata": {
    "scrolled": true
   },
   "outputs": [
    {
     "name": "stdout",
     "output_type": "stream",
     "text": [
      "Accuracy: 0.7692307692307693\n"
     ]
    }
   ],
   "source": [
    "y_pred  = naive_bayes_clf.predict(x_validation)\n",
    "\n",
    "print(\"Accuracy:\",metrics.accuracy_score(y_validation, y_pred))"
   ]
  },
  {
   "cell_type": "code",
   "execution_count": 491,
   "metadata": {},
   "outputs": [
    {
     "name": "stdout",
     "output_type": "stream",
     "text": [
      "Accuracy: 0.7552447552447552\n"
     ]
    }
   ],
   "source": [
    "svm_clf.fit(x_train,y_train)\n",
    "y_pred  = svm_clf.predict(x_validation)\n",
    "print(\"Accuracy:\",metrics.accuracy_score(y_validation, y_pred))"
   ]
  },
  {
   "cell_type": "code",
   "execution_count": 492,
   "metadata": {},
   "outputs": [
    {
     "name": "stdout",
     "output_type": "stream",
     "text": [
      "Accuracy: 0.7552447552447552\n"
     ]
    }
   ],
   "source": [
    "decision_tree_clf.fit(x_train,y_train)\n",
    "y_pred  = decision_tree_clf.predict(x_validation)\n",
    "print(\"Accuracy:\",metrics.accuracy_score(y_validation, y_pred))"
   ]
  },
  {
   "cell_type": "code",
   "execution_count": 404,
   "metadata": {},
   "outputs": [
    {
     "name": "stdout",
     "output_type": "stream",
     "text": [
      "Accuracy: 0.7622377622377622\n"
     ]
    }
   ],
   "source": [
    "from sklearn import preprocessing\n",
    "#creating labelEncoder\n",
    "le = preprocessing.LabelEncoder()\n",
    "# Converting string labels into numbers.\n",
    "weather_encoded=le.fit_transform(weather)\n",
    "temp_encoded=le.fit_transform(temp)\n",
    "label=le.fit_transform(y_train)\n",
    "features=zip(x_train,y_train)\n",
    "\n",
    "from sklearn.naive_bayes import GaussianNB\n",
    "\n",
    "#Create a Gaussian Classifier\n",
    "model = GaussianNB()\n",
    "\n",
    "# Train the model using the training sets\n",
    "model.fit(x_train,y_train)\n",
    "\n",
    "#Predict Output\n",
    "predicted= model.predict(x_validation) # 0:Overcast, 2:Mild\n",
    "\n",
    "print(\"Accuracy:\",metrics.accuracy_score(predicted, y_validation))"
   ]
  },
  {
   "cell_type": "code",
   "execution_count": 324,
   "metadata": {},
   "outputs": [],
   "source": [
    "x_train =\n",
    "\n",
    "weather=['Sunny','Sunny','Overcast','Rainy','Rainy','Rainy','Overcast','Sunny','Sunny',\n",
    "'Rainy','Sunny','Overcast','Overcast','Rainy']\n",
    "temp=['Hot','Hot','Hot','Mild','Cool','Cool','Cool','Mild','Cool','Mild','Mild','Mild','Hot','Mild']\n",
    "\n",
    "play=['No','No','Yes','Yes','Yes','No','Yes','No','Yes','Yes','Yes','Yes','Yes','No']\n",
    "\n",
    "\n",
    "df = pd.DataFrame({\n",
    "    'weather' : weather,\n",
    "    'temp' : temp,\n",
    "     'play' : play\n",
    "})\n",
    "\n",
    "\n",
    "#df = pd.DataFrame({\n",
    "#    'X1': [3.393533211,3.110073483, 1.343808831, 3.582294042,2.280362439,7.423436942,5.745051997,9.172168622,7.792783481,7.939820817],\n",
    "#    'X2': [2.331273381,1.781539638,3.368360954,4.67917911,2.866990263,4.696522875,3.533989803,2.511101045,3.424088941,0.791637231],\n",
    "#    'Y': [0,0,0,0,0,1,1,1,1,1]\n",
    "#})\n",
    "\n",
    "\n",
    "#df = pd.DataFrame({\n",
    "#    'X1': [3.393533211,3.110073483, 1.343808831, 3.582294042,2.280362439,7.423436942,5.745051997,9.172168622,7.792783481,7.939820817],\n",
    "#    'X2': [2.331273381,1.781539638,3.368360954,4.67917911,2.866990263,4.696522875,3.533989803,2.511101045,3.424088941,0.791637231],\n",
    "#    'Y': [0,0,0,0,0,1,1,1,1,1]\n",
    "#})\n",
    "\n",
    "\n",
    "    #return (1 / (sqrt(2 * pi) * stdev)) * exponent\n",
    "\n",
    "df[\"play_encoded\"] = df[\"play\"].map( {'No': 0, 'Yes': 1}).astype(int)\n",
    "df[\"weather_encoded\"] = df[\"weather\"].map( {'Overcast': 0, 'Rainy': 1,'Sunny':2}).astype(int)\n",
    "df[\"temp_encoded\"] = df[\"temp\"].map( {'Cool': 0, 'Hot': 1,'Mild':2}).astype(int)\n",
    "\n",
    "\n",
    "x_test = np.array([[0,0],[0,1],[0,2],[1,0],[1,1],[1,2],[2,0],[2,1],[2,2]])\n"
   ]
  },
  {
   "cell_type": "code",
   "execution_count": 327,
   "metadata": {},
   "outputs": [
    {
     "data": {
      "text/plain": [
       "array([1, 1, 1, 1, 1, 1, 0, 0, 0], dtype=int64)"
      ]
     },
     "execution_count": 327,
     "metadata": {},
     "output_type": "execute_result"
    }
   ],
   "source": [
    "x = df[[\"weather_encoded\",\"temp_encoded\"]].to_numpy()\n",
    "y = df[\"play_encoded\"].to_numpy()\n",
    "naive_bayes = NaiveBayesModel(x,y)\n",
    "naive_bayes.predict(x_test)"
   ]
  },
  {
   "cell_type": "markdown",
   "metadata": {},
   "source": [
    "### SVM"
   ]
  },
  {
   "cell_type": "code",
   "execution_count": 335,
   "metadata": {},
   "outputs": [
    {
     "ename": "KeyError",
     "evalue": "'Y'",
     "output_type": "error",
     "traceback": [
      "\u001b[1;31m---------------------------------------------------------------------------\u001b[0m",
      "\u001b[1;31mKeyError\u001b[0m                                  Traceback (most recent call last)",
      "\u001b[1;32m~\\AppData\\Local\\Continuum\\anaconda3\\envs\\cdp\\lib\\site-packages\\pandas\\core\\indexes\\base.py\u001b[0m in \u001b[0;36mget_loc\u001b[1;34m(self, key, method, tolerance)\u001b[0m\n\u001b[0;32m   2645\u001b[0m             \u001b[1;32mtry\u001b[0m\u001b[1;33m:\u001b[0m\u001b[1;33m\u001b[0m\u001b[1;33m\u001b[0m\u001b[0m\n\u001b[1;32m-> 2646\u001b[1;33m                 \u001b[1;32mreturn\u001b[0m \u001b[0mself\u001b[0m\u001b[1;33m.\u001b[0m\u001b[0m_engine\u001b[0m\u001b[1;33m.\u001b[0m\u001b[0mget_loc\u001b[0m\u001b[1;33m(\u001b[0m\u001b[0mkey\u001b[0m\u001b[1;33m)\u001b[0m\u001b[1;33m\u001b[0m\u001b[1;33m\u001b[0m\u001b[0m\n\u001b[0m\u001b[0;32m   2647\u001b[0m             \u001b[1;32mexcept\u001b[0m \u001b[0mKeyError\u001b[0m\u001b[1;33m:\u001b[0m\u001b[1;33m\u001b[0m\u001b[1;33m\u001b[0m\u001b[0m\n",
      "\u001b[1;32mpandas\\_libs\\index.pyx\u001b[0m in \u001b[0;36mpandas._libs.index.IndexEngine.get_loc\u001b[1;34m()\u001b[0m\n",
      "\u001b[1;32mpandas\\_libs\\index.pyx\u001b[0m in \u001b[0;36mpandas._libs.index.IndexEngine.get_loc\u001b[1;34m()\u001b[0m\n",
      "\u001b[1;32mpandas\\_libs\\hashtable_class_helper.pxi\u001b[0m in \u001b[0;36mpandas._libs.hashtable.PyObjectHashTable.get_item\u001b[1;34m()\u001b[0m\n",
      "\u001b[1;32mpandas\\_libs\\hashtable_class_helper.pxi\u001b[0m in \u001b[0;36mpandas._libs.hashtable.PyObjectHashTable.get_item\u001b[1;34m()\u001b[0m\n",
      "\u001b[1;31mKeyError\u001b[0m: 'Y'",
      "\nDuring handling of the above exception, another exception occurred:\n",
      "\u001b[1;31mKeyError\u001b[0m                                  Traceback (most recent call last)",
      "\u001b[1;32m<ipython-input-335-401b231529e5>\u001b[0m in \u001b[0;36m<module>\u001b[1;34m\u001b[0m\n\u001b[0;32m      1\u001b[0m \u001b[1;32mfrom\u001b[0m \u001b[0msklearn\u001b[0m\u001b[1;33m.\u001b[0m\u001b[0mtree\u001b[0m \u001b[1;32mimport\u001b[0m \u001b[0mDecisionTreeClassifier\u001b[0m\u001b[1;33m\u001b[0m\u001b[1;33m\u001b[0m\u001b[0m\n\u001b[0;32m      2\u001b[0m \u001b[0mclf\u001b[0m \u001b[1;33m=\u001b[0m \u001b[0mDecisionTreeClassifier\u001b[0m\u001b[1;33m(\u001b[0m\u001b[0mcriterion\u001b[0m\u001b[1;33m=\u001b[0m\u001b[1;34m'entropy'\u001b[0m\u001b[1;33m)\u001b[0m\u001b[1;33m\u001b[0m\u001b[1;33m\u001b[0m\u001b[0m\n\u001b[1;32m----> 3\u001b[1;33m \u001b[0mclf\u001b[0m \u001b[1;33m=\u001b[0m \u001b[0mclf\u001b[0m\u001b[1;33m.\u001b[0m\u001b[0mfit\u001b[0m\u001b[1;33m(\u001b[0m\u001b[0mdf\u001b[0m\u001b[1;33m[\u001b[0m\u001b[1;33m[\u001b[0m\u001b[1;34m\"weather_encoded\"\u001b[0m\u001b[1;33m,\u001b[0m\u001b[1;34m\"temp_encoded\"\u001b[0m\u001b[1;33m]\u001b[0m\u001b[1;33m]\u001b[0m\u001b[1;33m,\u001b[0m\u001b[0mdf\u001b[0m\u001b[1;33m[\u001b[0m\u001b[1;34m\"Y\"\u001b[0m\u001b[1;33m]\u001b[0m\u001b[1;33m)\u001b[0m\u001b[1;33m\u001b[0m\u001b[1;33m\u001b[0m\u001b[0m\n\u001b[0m\u001b[0;32m      4\u001b[0m \u001b[0my_pred\u001b[0m \u001b[1;33m=\u001b[0m \u001b[0mclf\u001b[0m\u001b[1;33m.\u001b[0m\u001b[0mpredict\u001b[0m\u001b[1;33m(\u001b[0m\u001b[0mx_test\u001b[0m\u001b[1;33m)\u001b[0m\u001b[1;33m\u001b[0m\u001b[1;33m\u001b[0m\u001b[0m\n\u001b[0;32m      5\u001b[0m \u001b[1;33m\u001b[0m\u001b[0m\n",
      "\u001b[1;32m~\\AppData\\Local\\Continuum\\anaconda3\\envs\\cdp\\lib\\site-packages\\pandas\\core\\frame.py\u001b[0m in \u001b[0;36m__getitem__\u001b[1;34m(self, key)\u001b[0m\n\u001b[0;32m   2798\u001b[0m             \u001b[1;32mif\u001b[0m \u001b[0mself\u001b[0m\u001b[1;33m.\u001b[0m\u001b[0mcolumns\u001b[0m\u001b[1;33m.\u001b[0m\u001b[0mnlevels\u001b[0m \u001b[1;33m>\u001b[0m \u001b[1;36m1\u001b[0m\u001b[1;33m:\u001b[0m\u001b[1;33m\u001b[0m\u001b[1;33m\u001b[0m\u001b[0m\n\u001b[0;32m   2799\u001b[0m                 \u001b[1;32mreturn\u001b[0m \u001b[0mself\u001b[0m\u001b[1;33m.\u001b[0m\u001b[0m_getitem_multilevel\u001b[0m\u001b[1;33m(\u001b[0m\u001b[0mkey\u001b[0m\u001b[1;33m)\u001b[0m\u001b[1;33m\u001b[0m\u001b[1;33m\u001b[0m\u001b[0m\n\u001b[1;32m-> 2800\u001b[1;33m             \u001b[0mindexer\u001b[0m \u001b[1;33m=\u001b[0m \u001b[0mself\u001b[0m\u001b[1;33m.\u001b[0m\u001b[0mcolumns\u001b[0m\u001b[1;33m.\u001b[0m\u001b[0mget_loc\u001b[0m\u001b[1;33m(\u001b[0m\u001b[0mkey\u001b[0m\u001b[1;33m)\u001b[0m\u001b[1;33m\u001b[0m\u001b[1;33m\u001b[0m\u001b[0m\n\u001b[0m\u001b[0;32m   2801\u001b[0m             \u001b[1;32mif\u001b[0m \u001b[0mis_integer\u001b[0m\u001b[1;33m(\u001b[0m\u001b[0mindexer\u001b[0m\u001b[1;33m)\u001b[0m\u001b[1;33m:\u001b[0m\u001b[1;33m\u001b[0m\u001b[1;33m\u001b[0m\u001b[0m\n\u001b[0;32m   2802\u001b[0m                 \u001b[0mindexer\u001b[0m \u001b[1;33m=\u001b[0m \u001b[1;33m[\u001b[0m\u001b[0mindexer\u001b[0m\u001b[1;33m]\u001b[0m\u001b[1;33m\u001b[0m\u001b[1;33m\u001b[0m\u001b[0m\n",
      "\u001b[1;32m~\\AppData\\Local\\Continuum\\anaconda3\\envs\\cdp\\lib\\site-packages\\pandas\\core\\indexes\\base.py\u001b[0m in \u001b[0;36mget_loc\u001b[1;34m(self, key, method, tolerance)\u001b[0m\n\u001b[0;32m   2646\u001b[0m                 \u001b[1;32mreturn\u001b[0m \u001b[0mself\u001b[0m\u001b[1;33m.\u001b[0m\u001b[0m_engine\u001b[0m\u001b[1;33m.\u001b[0m\u001b[0mget_loc\u001b[0m\u001b[1;33m(\u001b[0m\u001b[0mkey\u001b[0m\u001b[1;33m)\u001b[0m\u001b[1;33m\u001b[0m\u001b[1;33m\u001b[0m\u001b[0m\n\u001b[0;32m   2647\u001b[0m             \u001b[1;32mexcept\u001b[0m \u001b[0mKeyError\u001b[0m\u001b[1;33m:\u001b[0m\u001b[1;33m\u001b[0m\u001b[1;33m\u001b[0m\u001b[0m\n\u001b[1;32m-> 2648\u001b[1;33m                 \u001b[1;32mreturn\u001b[0m \u001b[0mself\u001b[0m\u001b[1;33m.\u001b[0m\u001b[0m_engine\u001b[0m\u001b[1;33m.\u001b[0m\u001b[0mget_loc\u001b[0m\u001b[1;33m(\u001b[0m\u001b[0mself\u001b[0m\u001b[1;33m.\u001b[0m\u001b[0m_maybe_cast_indexer\u001b[0m\u001b[1;33m(\u001b[0m\u001b[0mkey\u001b[0m\u001b[1;33m)\u001b[0m\u001b[1;33m)\u001b[0m\u001b[1;33m\u001b[0m\u001b[1;33m\u001b[0m\u001b[0m\n\u001b[0m\u001b[0;32m   2649\u001b[0m         \u001b[0mindexer\u001b[0m \u001b[1;33m=\u001b[0m \u001b[0mself\u001b[0m\u001b[1;33m.\u001b[0m\u001b[0mget_indexer\u001b[0m\u001b[1;33m(\u001b[0m\u001b[1;33m[\u001b[0m\u001b[0mkey\u001b[0m\u001b[1;33m]\u001b[0m\u001b[1;33m,\u001b[0m \u001b[0mmethod\u001b[0m\u001b[1;33m=\u001b[0m\u001b[0mmethod\u001b[0m\u001b[1;33m,\u001b[0m \u001b[0mtolerance\u001b[0m\u001b[1;33m=\u001b[0m\u001b[0mtolerance\u001b[0m\u001b[1;33m)\u001b[0m\u001b[1;33m\u001b[0m\u001b[1;33m\u001b[0m\u001b[0m\n\u001b[0;32m   2650\u001b[0m         \u001b[1;32mif\u001b[0m \u001b[0mindexer\u001b[0m\u001b[1;33m.\u001b[0m\u001b[0mndim\u001b[0m \u001b[1;33m>\u001b[0m \u001b[1;36m1\u001b[0m \u001b[1;32mor\u001b[0m \u001b[0mindexer\u001b[0m\u001b[1;33m.\u001b[0m\u001b[0msize\u001b[0m \u001b[1;33m>\u001b[0m \u001b[1;36m1\u001b[0m\u001b[1;33m:\u001b[0m\u001b[1;33m\u001b[0m\u001b[1;33m\u001b[0m\u001b[0m\n",
      "\u001b[1;32mpandas\\_libs\\index.pyx\u001b[0m in \u001b[0;36mpandas._libs.index.IndexEngine.get_loc\u001b[1;34m()\u001b[0m\n",
      "\u001b[1;32mpandas\\_libs\\index.pyx\u001b[0m in \u001b[0;36mpandas._libs.index.IndexEngine.get_loc\u001b[1;34m()\u001b[0m\n",
      "\u001b[1;32mpandas\\_libs\\hashtable_class_helper.pxi\u001b[0m in \u001b[0;36mpandas._libs.hashtable.PyObjectHashTable.get_item\u001b[1;34m()\u001b[0m\n",
      "\u001b[1;32mpandas\\_libs\\hashtable_class_helper.pxi\u001b[0m in \u001b[0;36mpandas._libs.hashtable.PyObjectHashTable.get_item\u001b[1;34m()\u001b[0m\n",
      "\u001b[1;31mKeyError\u001b[0m: 'Y'"
     ]
    }
   ],
   "source": [
    "from sklearn.tree import DecisionTreeClassifier\n",
    "clf = DecisionTreeClassifier(criterion='entropy')\n",
    "clf = clf.fit(df[[\"weather_encoded\",\"temp_encoded\"]],df[\"Y\"])\n",
    "y_pred = clf.predict(x_test)\n",
    "\n",
    "y_pred\n",
    "\n",
    "clf = svm.SVC(kernel='linear') \n",
    "\n",
    "clf.fit(df[[\"weather_encoded\",\"temp_encoded\"]],df[\"Y\"])\n",
    "\n",
    "y_pred = clf.predict(x_test)\n",
    "y_pred"
   ]
  },
  {
   "cell_type": "code",
   "execution_count": 9,
   "metadata": {},
   "outputs": [],
   "source": [
    "from sklearn.tree import export_graphviz"
   ]
  },
  {
   "cell_type": "code",
   "execution_count": 13,
   "metadata": {
    "scrolled": false
   },
   "outputs": [
    {
     "data": {
      "image/svg+xml": [
       "<?xml version=\"1.0\" encoding=\"UTF-8\" standalone=\"no\"?>\r\n",
       "<!DOCTYPE svg PUBLIC \"-//W3C//DTD SVG 1.1//EN\"\r\n",
       " \"http://www.w3.org/Graphics/SVG/1.1/DTD/svg11.dtd\">\r\n",
       "<!-- Generated by graphviz version 2.44.1 (20200629.0800)\r\n",
       " -->\r\n",
       "<!-- Title: Tree Pages: 1 -->\r\n",
       "<svg width=\"591pt\" height=\"552pt\"\r\n",
       " viewBox=\"0.00 0.00 591.00 552.00\" xmlns=\"http://www.w3.org/2000/svg\" xmlns:xlink=\"http://www.w3.org/1999/xlink\">\r\n",
       "<g id=\"graph0\" class=\"graph\" transform=\"scale(1 1) rotate(0) translate(4 548)\">\r\n",
       "<title>Tree</title>\r\n",
       "<polygon fill=\"white\" stroke=\"transparent\" points=\"-4,4 -4,-548 587,-548 587,4 -4,4\"/>\r\n",
       "<!-- 0 -->\r\n",
       "<g id=\"node1\" class=\"node\">\r\n",
       "<title>0</title>\r\n",
       "<path fill=\"#a7d3f3\" stroke=\"black\" d=\"M231.5,-544C231.5,-544 147.5,-544 147.5,-544 141.5,-544 135.5,-538 135.5,-532 135.5,-532 135.5,-473 135.5,-473 135.5,-467 141.5,-461 147.5,-461 147.5,-461 231.5,-461 231.5,-461 237.5,-461 243.5,-467 243.5,-473 243.5,-473 243.5,-532 243.5,-532 243.5,-538 237.5,-544 231.5,-544\"/>\r\n",
       "<text text-anchor=\"start\" x=\"147\" y=\"-528.8\" font-family=\"Helvetica,sans-Serif\" font-size=\"14.00\">weather ≤ 0.5</text>\r\n",
       "<text text-anchor=\"start\" x=\"143.5\" y=\"-513.8\" font-family=\"Helvetica,sans-Serif\" font-size=\"14.00\">entropy = 0.94</text>\r\n",
       "<text text-anchor=\"start\" x=\"146\" y=\"-498.8\" font-family=\"Helvetica,sans-Serif\" font-size=\"14.00\">samples = 14</text>\r\n",
       "<text text-anchor=\"start\" x=\"149\" y=\"-483.8\" font-family=\"Helvetica,sans-Serif\" font-size=\"14.00\">value = [5, 9]</text>\r\n",
       "<text text-anchor=\"start\" x=\"152\" y=\"-468.8\" font-family=\"Helvetica,sans-Serif\" font-size=\"14.00\">class = play</text>\r\n",
       "</g>\r\n",
       "<!-- 1 -->\r\n",
       "<g id=\"node2\" class=\"node\">\r\n",
       "<title>1</title>\r\n",
       "<path fill=\"#399de5\" stroke=\"black\" d=\"M163.5,-417.5C163.5,-417.5 87.5,-417.5 87.5,-417.5 81.5,-417.5 75.5,-411.5 75.5,-405.5 75.5,-405.5 75.5,-361.5 75.5,-361.5 75.5,-355.5 81.5,-349.5 87.5,-349.5 87.5,-349.5 163.5,-349.5 163.5,-349.5 169.5,-349.5 175.5,-355.5 175.5,-361.5 175.5,-361.5 175.5,-405.5 175.5,-405.5 175.5,-411.5 169.5,-417.5 163.5,-417.5\"/>\r\n",
       "<text text-anchor=\"start\" x=\"83.5\" y=\"-402.3\" font-family=\"Helvetica,sans-Serif\" font-size=\"14.00\">entropy = 0.0</text>\r\n",
       "<text text-anchor=\"start\" x=\"86\" y=\"-387.3\" font-family=\"Helvetica,sans-Serif\" font-size=\"14.00\">samples = 4</text>\r\n",
       "<text text-anchor=\"start\" x=\"85\" y=\"-372.3\" font-family=\"Helvetica,sans-Serif\" font-size=\"14.00\">value = [0, 4]</text>\r\n",
       "<text text-anchor=\"start\" x=\"88\" y=\"-357.3\" font-family=\"Helvetica,sans-Serif\" font-size=\"14.00\">class = play</text>\r\n",
       "</g>\r\n",
       "<!-- 0&#45;&gt;1 -->\r\n",
       "<g id=\"edge1\" class=\"edge\">\r\n",
       "<title>0&#45;&gt;1</title>\r\n",
       "<path fill=\"none\" stroke=\"black\" d=\"M167.3,-460.91C161.26,-449.87 154.71,-437.9 148.62,-426.77\"/>\r\n",
       "<polygon fill=\"black\" stroke=\"black\" points=\"151.51,-424.76 143.64,-417.67 145.37,-428.12 151.51,-424.76\"/>\r\n",
       "<text text-anchor=\"middle\" x=\"136.62\" y=\"-437.96\" font-family=\"Helvetica,sans-Serif\" font-size=\"14.00\">True</text>\r\n",
       "</g>\r\n",
       "<!-- 2 -->\r\n",
       "<g id=\"node3\" class=\"node\">\r\n",
       "<title>2</title>\r\n",
       "<path fill=\"#ffffff\" stroke=\"black\" d=\"M301,-425C301,-425 206,-425 206,-425 200,-425 194,-419 194,-413 194,-413 194,-354 194,-354 194,-348 200,-342 206,-342 206,-342 301,-342 301,-342 307,-342 313,-348 313,-354 313,-354 313,-413 313,-413 313,-419 307,-425 301,-425\"/>\r\n",
       "<text text-anchor=\"start\" x=\"219.5\" y=\"-409.8\" font-family=\"Helvetica,sans-Serif\" font-size=\"14.00\">temp ≤ 0.5</text>\r\n",
       "<text text-anchor=\"start\" x=\"211.5\" y=\"-394.8\" font-family=\"Helvetica,sans-Serif\" font-size=\"14.00\">entropy = 1.0</text>\r\n",
       "<text text-anchor=\"start\" x=\"210\" y=\"-379.8\" font-family=\"Helvetica,sans-Serif\" font-size=\"14.00\">samples = 10</text>\r\n",
       "<text text-anchor=\"start\" x=\"213\" y=\"-364.8\" font-family=\"Helvetica,sans-Serif\" font-size=\"14.00\">value = [5, 5]</text>\r\n",
       "<text text-anchor=\"start\" x=\"202\" y=\"-349.8\" font-family=\"Helvetica,sans-Serif\" font-size=\"14.00\">class = not_play</text>\r\n",
       "</g>\r\n",
       "<!-- 0&#45;&gt;2 -->\r\n",
       "<g id=\"edge2\" class=\"edge\">\r\n",
       "<title>0&#45;&gt;2</title>\r\n",
       "<path fill=\"none\" stroke=\"black\" d=\"M211.7,-460.91C216.47,-452.2 221.56,-442.9 226.48,-433.89\"/>\r\n",
       "<polygon fill=\"black\" stroke=\"black\" points=\"229.61,-435.47 231.33,-425.02 223.47,-432.11 229.61,-435.47\"/>\r\n",
       "<text text-anchor=\"middle\" x=\"238.36\" y=\"-445.31\" font-family=\"Helvetica,sans-Serif\" font-size=\"14.00\">False</text>\r\n",
       "</g>\r\n",
       "<!-- 3 -->\r\n",
       "<g id=\"node4\" class=\"node\">\r\n",
       "<title>3</title>\r\n",
       "<path fill=\"#9ccef2\" stroke=\"black\" d=\"M231.5,-306C231.5,-306 139.5,-306 139.5,-306 133.5,-306 127.5,-300 127.5,-294 127.5,-294 127.5,-235 127.5,-235 127.5,-229 133.5,-223 139.5,-223 139.5,-223 231.5,-223 231.5,-223 237.5,-223 243.5,-229 243.5,-235 243.5,-235 243.5,-294 243.5,-294 243.5,-300 237.5,-306 231.5,-306\"/>\r\n",
       "<text text-anchor=\"start\" x=\"143\" y=\"-290.8\" font-family=\"Helvetica,sans-Serif\" font-size=\"14.00\">weather ≤ 1.5</text>\r\n",
       "<text text-anchor=\"start\" x=\"135.5\" y=\"-275.8\" font-family=\"Helvetica,sans-Serif\" font-size=\"14.00\">entropy = 0.918</text>\r\n",
       "<text text-anchor=\"start\" x=\"146\" y=\"-260.8\" font-family=\"Helvetica,sans-Serif\" font-size=\"14.00\">samples = 3</text>\r\n",
       "<text text-anchor=\"start\" x=\"145\" y=\"-245.8\" font-family=\"Helvetica,sans-Serif\" font-size=\"14.00\">value = [1, 2]</text>\r\n",
       "<text text-anchor=\"start\" x=\"148\" y=\"-230.8\" font-family=\"Helvetica,sans-Serif\" font-size=\"14.00\">class = play</text>\r\n",
       "</g>\r\n",
       "<!-- 2&#45;&gt;3 -->\r\n",
       "<g id=\"edge3\" class=\"edge\">\r\n",
       "<title>2&#45;&gt;3</title>\r\n",
       "<path fill=\"none\" stroke=\"black\" d=\"M229.91,-341.91C224.84,-333.2 219.44,-323.9 214.21,-314.89\"/>\r\n",
       "<polygon fill=\"black\" stroke=\"black\" points=\"217.1,-312.91 209.05,-306.02 211.05,-316.43 217.1,-312.91\"/>\r\n",
       "</g>\r\n",
       "<!-- 6 -->\r\n",
       "<g id=\"node7\" class=\"node\">\r\n",
       "<title>6</title>\r\n",
       "<path fill=\"#f8e0ce\" stroke=\"black\" d=\"M369,-306C369,-306 274,-306 274,-306 268,-306 262,-300 262,-294 262,-294 262,-235 262,-235 262,-229 268,-223 274,-223 274,-223 369,-223 369,-223 375,-223 381,-229 381,-235 381,-235 381,-294 381,-294 381,-300 375,-306 369,-306\"/>\r\n",
       "<text text-anchor=\"start\" x=\"287.5\" y=\"-290.8\" font-family=\"Helvetica,sans-Serif\" font-size=\"14.00\">temp ≤ 1.5</text>\r\n",
       "<text text-anchor=\"start\" x=\"271.5\" y=\"-275.8\" font-family=\"Helvetica,sans-Serif\" font-size=\"14.00\">entropy = 0.985</text>\r\n",
       "<text text-anchor=\"start\" x=\"282\" y=\"-260.8\" font-family=\"Helvetica,sans-Serif\" font-size=\"14.00\">samples = 7</text>\r\n",
       "<text text-anchor=\"start\" x=\"281\" y=\"-245.8\" font-family=\"Helvetica,sans-Serif\" font-size=\"14.00\">value = [4, 3]</text>\r\n",
       "<text text-anchor=\"start\" x=\"270\" y=\"-230.8\" font-family=\"Helvetica,sans-Serif\" font-size=\"14.00\">class = not_play</text>\r\n",
       "</g>\r\n",
       "<!-- 2&#45;&gt;6 -->\r\n",
       "<g id=\"edge6\" class=\"edge\">\r\n",
       "<title>2&#45;&gt;6</title>\r\n",
       "<path fill=\"none\" stroke=\"black\" d=\"M277.09,-341.91C282.16,-333.2 287.56,-323.9 292.79,-314.89\"/>\r\n",
       "<polygon fill=\"black\" stroke=\"black\" points=\"295.95,-316.43 297.95,-306.02 289.9,-312.91 295.95,-316.43\"/>\r\n",
       "</g>\r\n",
       "<!-- 4 -->\r\n",
       "<g id=\"node5\" class=\"node\">\r\n",
       "<title>4</title>\r\n",
       "<path fill=\"#ffffff\" stroke=\"black\" d=\"M107,-179.5C107,-179.5 12,-179.5 12,-179.5 6,-179.5 0,-173.5 0,-167.5 0,-167.5 0,-123.5 0,-123.5 0,-117.5 6,-111.5 12,-111.5 12,-111.5 107,-111.5 107,-111.5 113,-111.5 119,-117.5 119,-123.5 119,-123.5 119,-167.5 119,-167.5 119,-173.5 113,-179.5 107,-179.5\"/>\r\n",
       "<text text-anchor=\"start\" x=\"17.5\" y=\"-164.3\" font-family=\"Helvetica,sans-Serif\" font-size=\"14.00\">entropy = 1.0</text>\r\n",
       "<text text-anchor=\"start\" x=\"20\" y=\"-149.3\" font-family=\"Helvetica,sans-Serif\" font-size=\"14.00\">samples = 2</text>\r\n",
       "<text text-anchor=\"start\" x=\"19\" y=\"-134.3\" font-family=\"Helvetica,sans-Serif\" font-size=\"14.00\">value = [1, 1]</text>\r\n",
       "<text text-anchor=\"start\" x=\"8\" y=\"-119.3\" font-family=\"Helvetica,sans-Serif\" font-size=\"14.00\">class = not_play</text>\r\n",
       "</g>\r\n",
       "<!-- 3&#45;&gt;4 -->\r\n",
       "<g id=\"edge4\" class=\"edge\">\r\n",
       "<title>3&#45;&gt;4</title>\r\n",
       "<path fill=\"none\" stroke=\"black\" d=\"M141.78,-222.91C129.19,-211.21 115.45,-198.46 102.88,-186.78\"/>\r\n",
       "<polygon fill=\"black\" stroke=\"black\" points=\"104.93,-183.91 95.22,-179.67 100.16,-189.04 104.93,-183.91\"/>\r\n",
       "</g>\r\n",
       "<!-- 5 -->\r\n",
       "<g id=\"node6\" class=\"node\">\r\n",
       "<title>5</title>\r\n",
       "<path fill=\"#399de5\" stroke=\"black\" d=\"M225.5,-179.5C225.5,-179.5 149.5,-179.5 149.5,-179.5 143.5,-179.5 137.5,-173.5 137.5,-167.5 137.5,-167.5 137.5,-123.5 137.5,-123.5 137.5,-117.5 143.5,-111.5 149.5,-111.5 149.5,-111.5 225.5,-111.5 225.5,-111.5 231.5,-111.5 237.5,-117.5 237.5,-123.5 237.5,-123.5 237.5,-167.5 237.5,-167.5 237.5,-173.5 231.5,-179.5 225.5,-179.5\"/>\r\n",
       "<text text-anchor=\"start\" x=\"145.5\" y=\"-164.3\" font-family=\"Helvetica,sans-Serif\" font-size=\"14.00\">entropy = 0.0</text>\r\n",
       "<text text-anchor=\"start\" x=\"148\" y=\"-149.3\" font-family=\"Helvetica,sans-Serif\" font-size=\"14.00\">samples = 1</text>\r\n",
       "<text text-anchor=\"start\" x=\"147\" y=\"-134.3\" font-family=\"Helvetica,sans-Serif\" font-size=\"14.00\">value = [0, 1]</text>\r\n",
       "<text text-anchor=\"start\" x=\"150\" y=\"-119.3\" font-family=\"Helvetica,sans-Serif\" font-size=\"14.00\">class = play</text>\r\n",
       "</g>\r\n",
       "<!-- 3&#45;&gt;5 -->\r\n",
       "<g id=\"edge5\" class=\"edge\">\r\n",
       "<title>3&#45;&gt;5</title>\r\n",
       "<path fill=\"none\" stroke=\"black\" d=\"M186.19,-222.91C186.38,-212.2 186.57,-200.62 186.76,-189.78\"/>\r\n",
       "<polygon fill=\"black\" stroke=\"black\" points=\"190.26,-189.73 186.93,-179.67 183.26,-189.61 190.26,-189.73\"/>\r\n",
       "</g>\r\n",
       "<!-- 7 -->\r\n",
       "<g id=\"node8\" class=\"node\">\r\n",
       "<title>7</title>\r\n",
       "<path fill=\"#e58139\" stroke=\"black\" d=\"M367,-179.5C367,-179.5 272,-179.5 272,-179.5 266,-179.5 260,-173.5 260,-167.5 260,-167.5 260,-123.5 260,-123.5 260,-117.5 266,-111.5 272,-111.5 272,-111.5 367,-111.5 367,-111.5 373,-111.5 379,-117.5 379,-123.5 379,-123.5 379,-167.5 379,-167.5 379,-173.5 373,-179.5 367,-179.5\"/>\r\n",
       "<text text-anchor=\"start\" x=\"277.5\" y=\"-164.3\" font-family=\"Helvetica,sans-Serif\" font-size=\"14.00\">entropy = 0.0</text>\r\n",
       "<text text-anchor=\"start\" x=\"280\" y=\"-149.3\" font-family=\"Helvetica,sans-Serif\" font-size=\"14.00\">samples = 2</text>\r\n",
       "<text text-anchor=\"start\" x=\"279\" y=\"-134.3\" font-family=\"Helvetica,sans-Serif\" font-size=\"14.00\">value = [2, 0]</text>\r\n",
       "<text text-anchor=\"start\" x=\"268\" y=\"-119.3\" font-family=\"Helvetica,sans-Serif\" font-size=\"14.00\">class = not_play</text>\r\n",
       "</g>\r\n",
       "<!-- 6&#45;&gt;7 -->\r\n",
       "<g id=\"edge7\" class=\"edge\">\r\n",
       "<title>6&#45;&gt;7</title>\r\n",
       "<path fill=\"none\" stroke=\"black\" d=\"M320.81,-222.91C320.62,-212.2 320.43,-200.62 320.24,-189.78\"/>\r\n",
       "<polygon fill=\"black\" stroke=\"black\" points=\"323.74,-189.61 320.07,-179.67 316.74,-189.73 323.74,-189.61\"/>\r\n",
       "</g>\r\n",
       "<!-- 8 -->\r\n",
       "<g id=\"node9\" class=\"node\">\r\n",
       "<title>8</title>\r\n",
       "<path fill=\"#bddef6\" stroke=\"black\" d=\"M501.5,-187C501.5,-187 409.5,-187 409.5,-187 403.5,-187 397.5,-181 397.5,-175 397.5,-175 397.5,-116 397.5,-116 397.5,-110 403.5,-104 409.5,-104 409.5,-104 501.5,-104 501.5,-104 507.5,-104 513.5,-110 513.5,-116 513.5,-116 513.5,-175 513.5,-175 513.5,-181 507.5,-187 501.5,-187\"/>\r\n",
       "<text text-anchor=\"start\" x=\"413\" y=\"-171.8\" font-family=\"Helvetica,sans-Serif\" font-size=\"14.00\">weather ≤ 1.5</text>\r\n",
       "<text text-anchor=\"start\" x=\"405.5\" y=\"-156.8\" font-family=\"Helvetica,sans-Serif\" font-size=\"14.00\">entropy = 0.971</text>\r\n",
       "<text text-anchor=\"start\" x=\"416\" y=\"-141.8\" font-family=\"Helvetica,sans-Serif\" font-size=\"14.00\">samples = 5</text>\r\n",
       "<text text-anchor=\"start\" x=\"415\" y=\"-126.8\" font-family=\"Helvetica,sans-Serif\" font-size=\"14.00\">value = [2, 3]</text>\r\n",
       "<text text-anchor=\"start\" x=\"418\" y=\"-111.8\" font-family=\"Helvetica,sans-Serif\" font-size=\"14.00\">class = play</text>\r\n",
       "</g>\r\n",
       "<!-- 6&#45;&gt;8 -->\r\n",
       "<g id=\"edge8\" class=\"edge\">\r\n",
       "<title>6&#45;&gt;8</title>\r\n",
       "<path fill=\"none\" stroke=\"black\" d=\"M367.99,-222.91C378.8,-213.47 390.4,-203.34 401.5,-193.65\"/>\r\n",
       "<polygon fill=\"black\" stroke=\"black\" points=\"403.86,-196.23 409.09,-187.02 399.26,-190.96 403.86,-196.23\"/>\r\n",
       "</g>\r\n",
       "<!-- 9 -->\r\n",
       "<g id=\"node10\" class=\"node\">\r\n",
       "<title>9</title>\r\n",
       "<path fill=\"#9ccef2\" stroke=\"black\" d=\"M433.5,-68C433.5,-68 341.5,-68 341.5,-68 335.5,-68 329.5,-62 329.5,-56 329.5,-56 329.5,-12 329.5,-12 329.5,-6 335.5,0 341.5,0 341.5,0 433.5,0 433.5,0 439.5,0 445.5,-6 445.5,-12 445.5,-12 445.5,-56 445.5,-56 445.5,-62 439.5,-68 433.5,-68\"/>\r\n",
       "<text text-anchor=\"start\" x=\"337.5\" y=\"-52.8\" font-family=\"Helvetica,sans-Serif\" font-size=\"14.00\">entropy = 0.918</text>\r\n",
       "<text text-anchor=\"start\" x=\"348\" y=\"-37.8\" font-family=\"Helvetica,sans-Serif\" font-size=\"14.00\">samples = 3</text>\r\n",
       "<text text-anchor=\"start\" x=\"347\" y=\"-22.8\" font-family=\"Helvetica,sans-Serif\" font-size=\"14.00\">value = [1, 2]</text>\r\n",
       "<text text-anchor=\"start\" x=\"350\" y=\"-7.8\" font-family=\"Helvetica,sans-Serif\" font-size=\"14.00\">class = play</text>\r\n",
       "</g>\r\n",
       "<!-- 8&#45;&gt;9 -->\r\n",
       "<g id=\"edge9\" class=\"edge\">\r\n",
       "<title>8&#45;&gt;9</title>\r\n",
       "<path fill=\"none\" stroke=\"black\" d=\"M430.18,-103.73C424.74,-94.97 418.99,-85.7 413.52,-76.91\"/>\r\n",
       "<polygon fill=\"black\" stroke=\"black\" points=\"416.43,-74.95 408.18,-68.3 410.48,-78.64 416.43,-74.95\"/>\r\n",
       "</g>\r\n",
       "<!-- 10 -->\r\n",
       "<g id=\"node11\" class=\"node\">\r\n",
       "<title>10</title>\r\n",
       "<path fill=\"#ffffff\" stroke=\"black\" d=\"M571,-68C571,-68 476,-68 476,-68 470,-68 464,-62 464,-56 464,-56 464,-12 464,-12 464,-6 470,0 476,0 476,0 571,0 571,0 577,0 583,-6 583,-12 583,-12 583,-56 583,-56 583,-62 577,-68 571,-68\"/>\r\n",
       "<text text-anchor=\"start\" x=\"481.5\" y=\"-52.8\" font-family=\"Helvetica,sans-Serif\" font-size=\"14.00\">entropy = 1.0</text>\r\n",
       "<text text-anchor=\"start\" x=\"484\" y=\"-37.8\" font-family=\"Helvetica,sans-Serif\" font-size=\"14.00\">samples = 2</text>\r\n",
       "<text text-anchor=\"start\" x=\"483\" y=\"-22.8\" font-family=\"Helvetica,sans-Serif\" font-size=\"14.00\">value = [1, 1]</text>\r\n",
       "<text text-anchor=\"start\" x=\"472\" y=\"-7.8\" font-family=\"Helvetica,sans-Serif\" font-size=\"14.00\">class = not_play</text>\r\n",
       "</g>\r\n",
       "<!-- 8&#45;&gt;10 -->\r\n",
       "<g id=\"edge10\" class=\"edge\">\r\n",
       "<title>8&#45;&gt;10</title>\r\n",
       "<path fill=\"none\" stroke=\"black\" d=\"M480.82,-103.73C486.26,-94.97 492.01,-85.7 497.48,-76.91\"/>\r\n",
       "<polygon fill=\"black\" stroke=\"black\" points=\"500.52,-78.64 502.82,-68.3 494.57,-74.95 500.52,-78.64\"/>\r\n",
       "</g>\r\n",
       "</g>\r\n",
       "</svg>\r\n"
      ],
      "text/plain": [
       "<graphviz.files.Source at 0x26a939427f0>"
      ]
     },
     "execution_count": 13,
     "metadata": {},
     "output_type": "execute_result"
    }
   ],
   "source": [
    "dot_data = export_graphviz(clf, out_file=None,\n",
    "                                        feature_names=[\"weather\",\"temp\"],\n",
    "                                        class_names=[\"not_play\",\"play\"],\n",
    "                                        filled=True, rounded=True,\n",
    "                                        special_characters=True)\n",
    "graph = graphviz.Source(dot_data)\n",
    "graph"
   ]
  },
  {
   "cell_type": "code",
   "execution_count": 255,
   "metadata": {
    "scrolled": true
   },
   "outputs": [
    {
     "name": "stdout",
     "output_type": "stream",
     "text": [
      "epoch:10 costo: 0.6628846\n",
      "epoch:20 costo: 0.6630661\n",
      "epoch:30 costo: 0.6630665\n",
      "epoch:40 costo: 0.6630665\n",
      "epoch:50 costo: 0.6630665\n",
      "epoch:60 costo: 0.6630665\n",
      "epoch:70 costo: 0.6630665\n",
      "epoch:80 costo: 0.6630665\n",
      "epoch:90 costo: 0.6630665\n",
      "epoch:100 costo: 0.6630665\n"
     ]
    },
    {
     "data": {
      "text/plain": [
       "array([[-0.18482722],\n",
       "       [-0.3615179 ],\n",
       "       [ 0.98256856]], dtype=float32)"
      ]
     },
     "execution_count": 255,
     "metadata": {},
     "output_type": "execute_result"
    }
   ],
   "source": [
    "weights = logistic_regression(x=df[[\"weather_encoded\",\"temp_encoded\"]].to_numpy(),y=df[\"Y\"].to_numpy(),epochs=100, lr=0.6, batch_size=2, beta=1, print_interval=10,  logs_dir=\"./fashion_mnist/\")\n",
    "weights"
   ]
  },
  {
   "cell_type": "code",
   "execution_count": 266,
   "metadata": {},
   "outputs": [],
   "source": [
    "def lr_predict_class(x,weights):\n",
    "    x = np.hstack((x,np.ones((x.shape[0],1))))\n",
    "    tf.reset_default_graph()\n",
    "    x_tf = tf.placeholder(tf.float32,[x.shape[0],None],\"Predicted_Image\")\n",
    "    with tf.Session() as session:\n",
    "        print(session.run(tf.nn.sigmoid(tf.matmul(x_tf,weights)),feed_dict={x_tf: x}))\n",
    "        prediction = session.run(tf.cast(tf.nn.sigmoid(tf.matmul(x_tf,weights)) > 0.5, tf.int32),feed_dict={x_tf: x})\n",
    "    session.close()\n",
    "    return prediction.reshape(1,-1)"
   ]
  },
  {
   "cell_type": "code",
   "execution_count": 267,
   "metadata": {},
   "outputs": [
    {
     "name": "stdout",
     "output_type": "stream",
     "text": [
      "[[0.72761756]\n",
      " [0.65045744]\n",
      " [0.56452143]\n",
      " [0.6894911 ]\n",
      " [0.60735875]\n",
      " [0.5186677 ]\n",
      " [0.6486052 ]\n",
      " [0.56252015]\n",
      " [0.47249734]]\n"
     ]
    },
    {
     "data": {
      "text/plain": [
       "array([[1, 1, 1, 1, 1, 1, 1, 1, 0]])"
      ]
     },
     "execution_count": 267,
     "metadata": {},
     "output_type": "execute_result"
    }
   ],
   "source": [
    "lr_predict_class(x_test,weights)"
   ]
  },
  {
   "cell_type": "code",
   "execution_count": 138,
   "metadata": {},
   "outputs": [
    {
     "data": {
      "text/plain": [
       "array([1, 1, 1, 1, 1, 1, 0, 0, 0])"
      ]
     },
     "execution_count": 138,
     "metadata": {},
     "output_type": "execute_result"
    }
   ],
   "source": [
    "from sklearn.linear_model import LogisticRegression\n",
    "logisticRegr = LogisticRegression()\n",
    "logisticRegr.fit(df[[\"weather_encoded\",\"temp_encoded\"]],df[\"Y\"])\n",
    "logisticRegr.predict(x_test)\n",
    "#logisticRegr.predict"
   ]
  },
  {
   "cell_type": "code",
   "execution_count": 322,
   "metadata": {},
   "outputs": [
    {
     "name": "stdout",
     "output_type": "stream",
     "text": [
      "epoch:10 costo: 0.6628846\n",
      "epoch:20 costo: 0.6630661\n",
      "epoch:30 costo: 0.6630665\n",
      "epoch:40 costo: 0.6630665\n",
      "epoch:50 costo: 0.6630665\n",
      "epoch:60 costo: 0.6630665\n",
      "epoch:70 costo: 0.6630665\n",
      "epoch:80 costo: 0.6630665\n",
      "epoch:90 costo: 0.6630665\n",
      "epoch:100 costo: 0.6630665\n"
     ]
    },
    {
     "data": {
      "text/plain": [
       "array([[1, 1, 1, 1, 1, 1, 1, 1, 0]])"
      ]
     },
     "execution_count": 322,
     "metadata": {},
     "output_type": "execute_result"
    }
   ],
   "source": [
    "logistic_regression = LogisticRegressionModel()\n",
    "\n",
    "logistic_regression.train(x=df[[\"weather_encoded\",\"temp_encoded\"]].to_numpy(),y=df[\"play_encoded\"].to_numpy(),epochs=100, lr=0.6, batch_size=2, beta=1, print_interval=10,  logs_dir=\"./fashion_mnist/\")\n",
    "logistic_regression.predict(x_test)"
   ]
  }
 ],
 "metadata": {
  "kernelspec": {
   "display_name": "Python 3",
   "language": "python",
   "name": "python3"
  },
  "language_info": {
   "codemirror_mode": {
    "name": "ipython",
    "version": 3
   },
   "file_extension": ".py",
   "mimetype": "text/x-python",
   "name": "python",
   "nbconvert_exporter": "python",
   "pygments_lexer": "ipython3",
   "version": "3.8.1"
  }
 },
 "nbformat": 4,
 "nbformat_minor": 4
}
